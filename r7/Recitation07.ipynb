{
 "cells": [
  {
   "cell_type": "markdown",
   "metadata": {},
   "source": [
    "## COVID Tracking and comparing states new confirmed cases\n",
    "\n",
    "We will explore how to run a two sample and paire T-test, and interpret the results.\n",
    "\n",
    "The data we will use comes from the COVIDtracking project. \n",
    "The [COVIDtracking project](https://covidtracking.com/) was started by the Atlantic with the goal of as accurate as possible number of tests and results related to SAR-CoV-2/COVID-19. \n",
    "\n",
    "Our goal will be to understand how to compare two sample means with the t-test and how to analyze the change in means over time with the pairedd t-test. "
   ]
  },
  {
   "cell_type": "markdown",
   "metadata": {},
   "source": [
    "## Exploratory data analysis\n",
    "\n",
    "For this project, we will compare number of positive cases in Florida and Pennsylvania since 2020-08-01.\n",
    "I chose Florida at random from the list of 56 regions the COVIDtracking project collects data on.\n",
    "\n",
    "To get a sense of the number of positive cases in each state, lets plot a histogram of the number of positive cases for PA and for FL. "
   ]
  },
  {
   "cell_type": "code",
   "execution_count": 2,
   "metadata": {},
   "outputs": [
    {
     "ename": "ModuleNotFoundError",
     "evalue": "No module named 'pandas'",
     "output_type": "error",
     "traceback": [
      "\u001b[0;31m---------------------------------------------------------------------------\u001b[0m",
      "\u001b[0;31mModuleNotFoundError\u001b[0m                       Traceback (most recent call last)",
      "\u001b[0;32m<ipython-input-2-470bab4eda51>\u001b[0m in \u001b[0;36m<module>\u001b[0;34m\u001b[0m\n\u001b[1;32m      1\u001b[0m \u001b[0;31m# import modules\u001b[0m\u001b[0;34m\u001b[0m\u001b[0;34m\u001b[0m\u001b[0;34m\u001b[0m\u001b[0m\n\u001b[0;32m----> 2\u001b[0;31m \u001b[0;32mimport\u001b[0m \u001b[0mpandas\u001b[0m \u001b[0;32mas\u001b[0m \u001b[0mpd\u001b[0m\u001b[0;34m\u001b[0m\u001b[0;34m\u001b[0m\u001b[0m\n\u001b[0m\u001b[1;32m      3\u001b[0m \u001b[0;32mimport\u001b[0m \u001b[0mmatplotlib\u001b[0m\u001b[0;34m.\u001b[0m\u001b[0mpyplot\u001b[0m \u001b[0;32mas\u001b[0m \u001b[0mplt\u001b[0m\u001b[0;34m\u001b[0m\u001b[0;34m\u001b[0m\u001b[0m\n\u001b[1;32m      4\u001b[0m \u001b[0;32mimport\u001b[0m \u001b[0mnumpy\u001b[0m \u001b[0;32mas\u001b[0m \u001b[0mnp\u001b[0m\u001b[0;34m\u001b[0m\u001b[0;34m\u001b[0m\u001b[0m\n\u001b[1;32m      5\u001b[0m \u001b[0;34m\u001b[0m\u001b[0m\n",
      "\u001b[0;31mModuleNotFoundError\u001b[0m: No module named 'pandas'"
     ]
    }
   ],
   "source": [
    "# import modules\n",
    "import pandas as pd\n",
    "import matplotlib.pyplot as plt\n",
    "import numpy as np\n",
    "\n",
    "import scipy.stats\n",
    "# -------------------------\n",
    "\n",
    "# download data directly from server via URL\n",
    "dailyCasesStates = pd.read_csv(\"https://api.covidtracking.com/v1/states/daily.csv\") # \n",
    "\n",
    "# build two dataframes: one for PA and one for FL. \n",
    "casesInFL = dailyCasesStates.loc[ (dailyCasesStates.state==\"FL\") & (dailyCasesStates.date>=20200801) , :] \n",
    "casesInPA = dailyCasesStates.loc[ (dailyCasesStates.state==\"PA\") & (dailyCasesStates.date>=20200801), :]\n",
    "\n",
    "# a set of nice looking styles\n",
    "plt.style.use(\"fivethirtyeight\")\n",
    "\n",
    "# generate an empty figure and ploting window (axis)\n",
    "fig,ax = plt.subplots()\n",
    "\n",
    "sns.distplot( casesInPA.positiveIncrease, label =\"PA\" )  # histogram of the number os new cases in PA\n",
    "sns.distplot( casesInFL.positiveIncrease, label = \"FL\" ) # histogram of the number os new cases in FL\n",
    "\n",
    "ax.set_xlabel(\"Number of new confirmed cases\",fontsize=12) # label the horizontal axes\n",
    "ax.set_yticklabels([])\n",
    "\n",
    "ax.set_xlim(0,10000)\n",
    "ax.legend()"
   ]
  },
  {
   "cell_type": "markdown",
   "metadata": {},
   "source": [
    "--- \n",
    "## QSA: How would you communicate the above histogram to the public?\n",
    "---"
   ]
  },
  {
   "cell_type": "markdown",
   "metadata": {},
   "source": [
    "Using the Central Limit Theorem, we can also get a sense for the distribution of the mean number of new cases in PA and FL. \n",
    "We will need to compute the mean number of new cases, the standard deviations, and the square root of the number of observations---in this case the days the COVIDtracking project reported cases. "
   ]
  },
  {
   "cell_type": "code",
   "execution_count": 3,
   "metadata": {},
   "outputs": [
    {
     "ename": "ModuleNotFoundError",
     "evalue": "No module named 'scipy'",
     "output_type": "error",
     "traceback": [
      "\u001b[0;31m---------------------------------------------------------------------------\u001b[0m",
      "\u001b[0;31mModuleNotFoundError\u001b[0m                       Traceback (most recent call last)",
      "\u001b[0;32m<ipython-input-3-c8b96b3881fc>\u001b[0m in \u001b[0;36m<module>\u001b[0;34m\u001b[0m\n\u001b[1;32m      1\u001b[0m \u001b[0;31m#CLT\u001b[0m\u001b[0;34m\u001b[0m\u001b[0;34m\u001b[0m\u001b[0;34m\u001b[0m\u001b[0m\n\u001b[0;32m----> 2\u001b[0;31m \u001b[0;32mimport\u001b[0m \u001b[0mscipy\u001b[0m\u001b[0;34m.\u001b[0m\u001b[0mstats\u001b[0m\u001b[0;34m\u001b[0m\u001b[0;34m\u001b[0m\u001b[0m\n\u001b[0m\u001b[1;32m      3\u001b[0m \u001b[0;34m\u001b[0m\u001b[0m\n\u001b[1;32m      4\u001b[0m \u001b[0mmeanPA\u001b[0m \u001b[0;34m=\u001b[0m \u001b[0mnp\u001b[0m\u001b[0;34m.\u001b[0m\u001b[0mmean\u001b[0m\u001b[0;34m(\u001b[0m\u001b[0mcasesInPA\u001b[0m\u001b[0;34m.\u001b[0m\u001b[0mpositiveIncrease\u001b[0m\u001b[0;34m)\u001b[0m\u001b[0;34m\u001b[0m\u001b[0;34m\u001b[0m\u001b[0m\n\u001b[1;32m      5\u001b[0m \u001b[0msePA\u001b[0m \u001b[0;34m=\u001b[0m \u001b[0mnp\u001b[0m\u001b[0;34m.\u001b[0m\u001b[0mstd\u001b[0m\u001b[0;34m(\u001b[0m\u001b[0mcasesInPA\u001b[0m\u001b[0;34m.\u001b[0m\u001b[0mpositiveIncrease\u001b[0m\u001b[0;34m)\u001b[0m\u001b[0;34m/\u001b[0m\u001b[0mnp\u001b[0m\u001b[0;34m.\u001b[0m\u001b[0msqrt\u001b[0m\u001b[0;34m(\u001b[0m\u001b[0mlen\u001b[0m\u001b[0;34m(\u001b[0m\u001b[0mcasesInPA\u001b[0m\u001b[0;34m)\u001b[0m\u001b[0;34m)\u001b[0m\u001b[0;34m\u001b[0m\u001b[0;34m\u001b[0m\u001b[0m\n",
      "\u001b[0;31mModuleNotFoundError\u001b[0m: No module named 'scipy'"
     ]
    }
   ],
   "source": [
    "#CLT\n",
    "import scipy.stats\n",
    "\n",
    "meanPA = np.mean(casesInPA.positiveIncrease)\n",
    "sePA = np.std(casesInPA.positiveIncrease)/np.sqrt(len(casesInPA))\n",
    "\n",
    "meanFL = np.mean(casesInFL.positiveIncrease)\n",
    "seFL = np.std(casesInFL.positiveIncrease)/ np.sqrt(len(casesInFL))\n",
    "\n",
    "meanDistPA = scipy.stats.norm(meanPA, sePA).pdf\n",
    "meanDistFL = scipy.stats.norm(meanFL, seFL).pdf\n",
    "\n",
    "fig,axs = plt.subplots(1,2)\n",
    "\n",
    "ax = axs[0]\n",
    "domain = np.linspace(meanPA-4*sePA,meanPA+4*sePA,1000)\n",
    "ax.plot( domain, meanDistPA(domain), label = \"PA\"  )\n",
    "\n",
    "ax.legend()\n",
    "ax.set_xlabel(\"Mean number of new confirmed cases\")\n",
    "ax.set_ylabel(\"Probability density\")\n",
    "\n",
    "\n",
    "ax = axs[1]\n",
    "domain = np.linspace(meanFL-4*seFL,meanFL+4*seFL,1000)\n",
    "ax.plot( domain, meanDistFL(domain), label = \"FL\",color=\"red\"  )\n",
    "\n",
    "ax.legend()\n",
    "ax.set_xlabel(\"Mean number of new confirmed cases\")\n",
    "ax.set_ylabel(\"Probability density\")\n",
    "\n",
    "fig.set_size_inches(12,4)"
   ]
  },
  {
   "cell_type": "markdown",
   "metadata": {},
   "source": [
    "## T-test for two samples\n",
    "\n",
    "A 2-sample t-test test whether the mean from one group of observations is different than the mean of a seoncd group of observations.\n",
    "\n"
   ]
  },
  {
   "cell_type": "code",
   "execution_count": 53,
   "metadata": {},
   "outputs": [
    {
     "name": "stdout",
     "output_type": "stream",
     "text": [
      "Pvalue = 0.000\n"
     ]
    }
   ],
   "source": [
    "testStat, pvalue = scipy.stats.ttest_ind( casesInPA.positiveIncrease, casesInFL.positiveIncrease, equal_var=False)\n",
    "print(\"Pvalue = {:.3f}\".format(pvalue))"
   ]
  },
  {
   "cell_type": "markdown",
   "metadata": {},
   "source": [
    "### Have states observed an increase in one week of the number of new cases? (Paired t-test)\n",
    "\n",
    "\n"
   ]
  },
  {
   "cell_type": "code",
   "execution_count": 69,
   "metadata": {},
   "outputs": [
    {
     "name": "stdout",
     "output_type": "stream",
     "text": [
      "Mean Change 223.89\n",
      "SE Change 46.80\n",
      "T = 4.78\n",
      "4.7412972708489916\n"
     ]
    },
    {
     "data": {
      "image/png": "[encoded data removed]",
      "text/plain": [
       "<Figure size 432x288 with 1 Axes>"
      ]
     },
     "metadata": {},
     "output_type": "display_data"
    }
   ],
   "source": [
    "changeFromOneweekAgo = []\n",
    "\n",
    "for state in dailyCasesStates.state.unique():\n",
    "    lastWeek = dailyCasesStates.loc[ (dailyCasesStates.state==state) & (dailyCasesStates.date==20201020),:]\n",
    "    thisWeek = dailyCasesStates.loc[ (dailyCasesStates.state==state) & (dailyCasesStates.date==20201027),:]\n",
    "    \n",
    "    change = float(thisWeek.positiveIncrease.values - lastWeek.positiveIncrease.values)\n",
    "    changeFromOneweekAgo.append(change)\n",
    "\n",
    "fig,ax = plt.subplots()\n",
    "sns.distplot(changeFromOneweekAgo)\n",
    "\n",
    "ax.set_xlabel(\"Num new cases 10/27 minus the num new cases 10/20\")\n",
    "\n",
    "meanChange = np.mean(changeFromOneweekAgo)\n",
    "se = np.std(changeFromOneweekAgo)/ np.sqrt(len(changeFromOneweekAgo))\n",
    "\n",
    "print(\"Mean Change {:.2f}\".format(meanChange))\n",
    "print(\"SE Change {:.2f}\".format(se))\n",
    "\n",
    "print(\"T = {:.2f}\".format( meanChange/se ))\n",
    "\n",
    "ttest, pvalue = scipy.stats.ttest_1samp( changeFromOneweekAgo, 0 )"
   ]
  }
 ],
 "metadata": {
  "kernelspec": {
   "display_name": "Python 3",
   "language": "python",
   "name": "python3"
  },
  "language_info": {
   "codemirror_mode": {
    "name": "ipython",
    "version": 3
   },
   "file_extension": ".py",
   "mimetype": "text/x-python",
   "name": "python",
   "nbconvert_exporter": "python",
   "pygments_lexer": "ipython3",
   "version": "3.9.0"
  }
 },
 "nbformat": 4,
 "nbformat_minor": 2
}
