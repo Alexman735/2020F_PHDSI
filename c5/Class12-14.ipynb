{
 "cells": [
  {
   "cell_type": "markdown",
   "metadata": {},
   "source": [
    "## Expectation, variance, and distribution of Random variables\n",
    "\n",
    "**Random variables** assign numerical values to the outcome of an experiment or otherwise random phenomena. \n",
    "The study of random variables is central to describing the majority of subjects that arise in population health.\n",
    "The number of patients who experienced an adverse event, the proportion of a population susceptible to an infectious disease, and the association between cigarette sales and lung cancer in a community are all examples of assigning a numerical value to the outcome of a random phenomena---they are all examples of describing our world with random variables. "
   ]
  },
  {
   "cell_type": "markdown",
   "metadata": {},
   "source": [
    "### Discrete and continuous random variables\n",
    "\n",
    "We can classify random variables into two types: (i) discrete and (ii) continuous. \n",
    "A **discrete** random variable takes a finite, distinct set of numerical values. \n",
    "For example, we can define a discrete r.v. to be the number of individuals infected with a respiratory disease in a fixed population.\n",
    "A **continuous** random variable takes an infinite number of numerical values. \n",
    "For example, we can defined a continuous r.v. to be the [creatinine clearance](https://www.sciencedirect.com/topics/medicine-and-dentistry/creatinine-clearance) of a patient, a continuous measurement of the rate of waste eliminated by the body through the kidneys.\n",
    "\n",
    "Discrete random variables are often easier to conceptualize that continuous random variables. "
   ]
  },
  {
   "cell_type": "markdown",
   "metadata": {},
   "source": [
    "### Expectation and variance for discrete random variables\n",
    "\n",
    "The **expectation** of a random variable is the sum of each value of the random variable weighted by the probability that value will occur. \n",
    "\n",
    "If $X$ is a random variable then the expectation of $X$ is \n",
    "\n",
    "\\begin{align}\n",
    "    \\text{E}(X) & = x_{1} p(x_{1}) + x_{2} p(x_{2}) + \\cdots + x_{n} p(x_{n}) \\\\\n",
    "                & \\sum_{i=1}^{N} x_{i} p(x_{i})\n",
    "\\end{align}\n",
    "\n",
    "where the random variable $X$ can take any of $n$ values from $x_{1}$ to $x_{n}$.\n",
    "\n",
    "The **variance** of a random variable is the sum of squared differences between each value of the random variable and it's expectation weighted by the probability that value will occur.  \n",
    "\n",
    "\\begin{align}\n",
    "    \\text{Var}(X) &= \\left[x_{1}-E(X)\\right]^2 p(x_{1}) + \\left[x_{2}-E(X)\\right]^2 p(x_{2}) + \\cdots + \\left[x_{n}-E(X)\\right]^2 p(x_{n}) \\\\\n",
    "                  &= \\sum_{i=1}^{N} \\left[x_{i}-E(X)\\right]^2 p(x_{i})\n",
    "\\end{align}\n",
    "\n",
    "\n",
    "---\n",
    "QSA: Does the expectation and variance of a r.v. remind you of any statistics?\n",
    "---\n"
   ]
  },
  {
   "cell_type": "markdown",
   "metadata": {},
   "source": [
    "### Probability distribution of random variables\n",
    "\n",
    "Just like a set of disjoint outcomes and their associated probabilities defined a probability distribution, the values of a random variable and their associated probabilities defined a probability distribution of that r.v.\n",
    "Some probability distributions of random variables are so common that they have been standardized. \n",
    "Below we will discuss five random variables, their expectation and variance, and an example of how to apply them in real-world examples using Python. "
   ]
  },
  {
   "cell_type": "markdown",
   "metadata": {},
   "source": [
    "### Bernoulli\n",
    "\n",
    "#### Definition\n",
    "\n",
    "A random variable $X$ follows a **Bernoulli** distribution if $X$ takes either the value $0$ or $1$, and \n",
    "\n",
    "\\begin{align}\n",
    "    p(x) = \\begin{cases} 0 & (1-\\theta)\\\\ 1 & \\theta \\end{cases} \n",
    "\\end{align}\n",
    "\n",
    "We write that $X \\sim \\text{Bern}(\\theta)$, in words, that $X$ follows a Bernoulli distribution with parameter theta.\n",
    "\n",
    "#### Expectation and variance\n",
    "\n",
    "The expected value of $X$, if it is distributed Bernoulli is \n",
    "\n",
    "\\begin{align}\n",
    "    \\text{E}(X) &= 1 \\times p(X=1) + 0 \\times p(X=0)\\\\\n",
    "         &= 1 \\times \\theta + 0 \\times (1 - \\theta)\\\\\n",
    "         &= \\theta\n",
    "\\end{align}\n",
    "\n",
    "The variance of $X$ is \n",
    "\n",
    "\\begin{align}\n",
    "    \\text{Var}(X) &= (1-\\theta)^2 \\times p(X=1) + (0 - \\theta)^2 \\times p(X=0)\\\\\n",
    "         &= (1-\\theta)^2 \\times \\theta +  \\theta^2 \\times (1 - \\theta)\\\\\n",
    "         &= \\theta (1-\\theta) \\left[  (1-\\theta) + \\theta \\right]\\\\\n",
    "         &= \\theta (1-\\theta)\n",
    "\\end{align}\n",
    "\n",
    "#### Application\n",
    "\n",
    "The US Food and Drug Administration (FDA) allows the voluntary addition of adverse event records for devices. \n",
    "This data base is called [MAUDE](https://www.accessdata.fda.gov/scripts/cdrh/cfdocs/cfmaude/search.cfm): Manufacturer and User Facility Device Experience. \n",
    "MAUDE is a searchable database, and I searched and extracted events reported on the RESOLUTE ONYX Drug-eluting stent, manufactured by [Medtronic](https://www.medtronic.com/us-en/healthcare-professionals/products/cardiovascular/coronary/stents/resolute-onyx-des.html). \n",
    "\n",
    "Let's load the database into Python and look at how we can defined Bernoulli random variables to describe our data.  "
   ]
  },
  {
   "cell_type": "code",
   "execution_count": null,
   "metadata": {},
   "outputs": [],
   "source": [
    "# Load Data from a uniform resource locator (url)\n",
    "import pandas as pd\n",
    "\n",
    "maudeData = pd.read_csv(\"\")\n",
    "\n",
    "# Pandas is a Python module for working with data\n",
    "#, and it is common to abbreviate the module pandas as pd. \n",
    "\n",
    "# Above, i used the function read_csv() from pd to load our dataset.\n",
    "\n",
    "# We can view the first few rows of our data by using the function \"head\"\n",
    "maudeData.head()"
   ]
  },
  {
   "cell_type": "markdown",
   "metadata": {},
   "source": [
    "### Geometric"
   ]
  },
  {
   "cell_type": "markdown",
   "metadata": {},
   "source": [
    "### Normal"
   ]
  },
  {
   "cell_type": "markdown",
   "metadata": {},
   "source": [
    "### Binomial"
   ]
  },
  {
   "cell_type": "markdown",
   "metadata": {},
   "source": [
    "### Poisson"
   ]
  },
  {
   "cell_type": "code",
   "execution_count": null,
   "metadata": {},
   "outputs": [],
   "source": []
  },
  {
   "cell_type": "code",
   "execution_count": null,
   "metadata": {},
   "outputs": [],
   "source": []
  },
  {
   "cell_type": "code",
   "execution_count": null,
   "metadata": {},
   "outputs": [],
   "source": []
  },
  {
   "cell_type": "code",
   "execution_count": null,
   "metadata": {},
   "outputs": [],
   "source": []
  },
  {
   "cell_type": "code",
   "execution_count": null,
   "metadata": {},
   "outputs": [],
   "source": []
  }
 ],
 "metadata": {
  "kernelspec": {
   "display_name": "Python 3",
   "language": "python",
   "name": "python3"
  },
  "language_info": {
   "codemirror_mode": {
    "name": "ipython",
    "version": 3
   },
   "file_extension": ".py",
   "mimetype": "text/x-python",
   "name": "python",
   "nbconvert_exporter": "python",
   "pygments_lexer": "ipython3",
   "version": "3.7.5"
  }
 },
 "nbformat": 4,
 "nbformat_minor": 2
}
