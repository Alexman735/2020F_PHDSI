{
 "cells": [
  {
   "cell_type": "markdown",
   "metadata": {},
   "source": [
    "## The normal distribution and \"expectedness\"\n",
    "\n",
    "The Normal (or Gaussian) distribution describes the probability of a continuous random variable.\n",
    "This is the (likely familiar) bell curve. \n",
    "\n",
    "### Definition\n",
    "The Normal distribution has two parameters: the mean ($\\mu$) and the standard deviation ($\\sigma$). \n",
    "The pdf is symmetric and unimodel and defined over all values from negative infinity to positive infinity. \n",
    "Values close to the mean are much, much more likely that values further from the mean. \n",
    "Because of this, the Normal distribution describes phenomena or values of a r.v. that are more or less expected to be close to $\\mu$---surprises are not very likely. \n",
    "\n",
    "\\begin{align}\n",
    "    f(x) &= \\frac{1}{\\sqrt{2\\pi} \\sigma} e^{ - \\frac{(x-\\mu)^{2}}{2\\sigma}  }\\\\\n",
    "         &= \\frac{1}{\\sqrt{2\\pi \\sigma^{2} } } \\exp \\left\\{ - \\frac{(x-\\mu)^{2}}{2\\sigma}  \\right\\} \\\\\n",
    "         &= \\left( 2\\pi \\sigma^{2} \\right)^{-1/2} \\exp \\left\\{ -\\frac{1}{2} \\left(\\frac{x-\\mu}{\\sigma}\\right)^{2}  \\right\\}\n",
    "\\end{align}\n",
    "\n",
    "### Expectation and variance\n",
    "\n",
    "If $X$ is a r.v. and normally distributed $X \\sim \\mathcal{N}\\left( \\mu, \\sigma^{2}\\right)$,\n",
    "the expectation is \n",
    "\n",
    "\\begin{align}\n",
    "    E(x) = \\mu\n",
    "\\end{align}\n",
    "\n",
    "and variance is \n",
    "\n",
    "\\begin{align}\n",
    "    Var(x) = \\sigma^{2}\n",
    "\\end{align}"
   ]
  },
  {
   "cell_type": "code",
   "execution_count": 2,
   "metadata": {},
   "outputs": [
    {
     "data": {
      "image/png": "[encoded data removed]",
      "text/plain": [
       "<Figure size 432x288 with 1 Axes>"
      ]
     },
     "metadata": {},
     "output_type": "display_data"
    }
   ],
   "source": [
    "from scipy import stats\n",
    "\n",
    "Pdf = stats.norm(0,1).pdf # first number is  mean and seoncd number is std dev\n",
    "domain = np.linspace(-4,4,200) # 200 points linearly spaced between -3 and 3\n",
    "\n",
    "plt.style.use(\"fivethirtyeight\")\n",
    "fig,ax = plt.subplots()\n",
    "\n",
    "ax.plot(domain,Pdf(domain) ,'k-',lw=2,alpha=0.5)\n",
    "\n",
    "ax.set_xlabel(\"Values\")\n",
    "ax.set_ylabel(\"Probability Density\")\n",
    "\n",
    "ax.text(0.99,0.99,\"Normal Pdf\",fontsize=14,transform=ax.transAxes,ha='right')\n",
    "\n",
    "fig.set_tight_layout(True)\n",
    "plt.show()"
   ]
  },
  {
   "cell_type": "markdown",
   "metadata": {},
   "source": [
    "### The expectedness of Normal distributions\n",
    "\n",
    "The normal distribution's pdf is a decreasing exponential of a squared quantity. \n",
    "We know exponentials increase and decrease fast, and squaring the term inside the exp means they grow or shrink even fast. \n",
    "Because of this, high probabilities are assigned to intervals close to the mean. \n",
    "In some sense, a r.v. with a normal distribution assumes data are more or less expected to be near the mean. \n",
    "\n",
    "To be more precise, a 0.68 probability is assigned to the interval within one standard deviation of the mean, 0.95 probability within 2 standard deviations and 0.997 within three standard deviations:\n",
    "\n",
    "* $p[ (\\mu - \\sigma, \\mu + \\sigma) ]   = 0.68$\n",
    "* $p[ (\\mu - 2\\sigma, \\mu + 2\\sigma) ] = 0.95$\n",
    "* $p[ (\\mu - 3\\sigma, \\mu + 3\\sigma) ] = 0.997$\n",
    "\n",
    "\n",
    "It is important to keep in mind that a normal distribution characterizes values expected to be close to their mean---most values will fall within 2 standard deviations.\n",
    "\n",
    "### Z scores and \"standardizing\"\n",
    "\n",
    "The normal distribution also plays a role in \"standardizing\" data. \n",
    "We can standardize a variable $X$ with the following algorithm:\n",
    "1. Compute the mean of X\n",
    "2. Compute the standard deviation of X\n",
    "3. For each value in X\n",
    "    1. subtract the mean\n",
    "    2. divide the value in 3.1. by the standard deviation\n",
    "\n",
    "\n",
    "By standardizing, the values of $X$ are put in terms of units of standard deviation. \n",
    "A value of $0$ mean the value is the same as the mean of the data.\n",
    "A value of $1$ is one standard deviation larger than the mean and so on. \n",
    "\n",
    "Standardizing is important when you want to compare two variables that have different units, or that have different variances around their mean. \n"
   ]
  },
  {
   "cell_type": "markdown",
   "metadata": {},
   "source": [
    "## The Poisson distribution and incidence \n",
    "\n",
    "### Definition\n",
    "\n",
    "A random variable $X$ has a Poisson distribution---$X\\sim \\text{Pois}\\left( \\lambda \\right)$--- if it is discrete and it's probability mass function is \n",
    "\n",
    "\\begin{align}\n",
    "    p(X = k) = e^{-\\lambda} \\frac{ \\lambda^{k} }{ k! }\n",
    "\\end{align}\n",
    "\n",
    "A Poisson distributed random variable assigns probabilities to the number of events that occur over a specific time period. The parameter $\\lambda$ is typically thought of as the rate of events per unit of time. For example, the number of deaths per month, number of phone calls per week, or number of emails per hour (so many). \n",
    "\n",
    "### Expected value and variance\n",
    "\n",
    "The expected value is \n",
    "\n",
    "\\begin{align}\n",
    "    E(X) = \\lambda\n",
    "\\end{align}\n",
    "\n",
    "and the variance is \n",
    "\n",
    "\\begin{align}\n",
    "    Var(X) = \\lambda\n",
    "\\end{align}"
   ]
  },
  {
   "cell_type": "code",
   "execution_count": null,
   "metadata": {},
   "outputs": [],
   "source": []
  }
 ],
 "metadata": {
  "kernelspec": {
   "display_name": "Python 3",
   "language": "python",
   "name": "python3"
  },
  "language_info": {
   "codemirror_mode": {
    "name": "ipython",
    "version": 3
   },
   "file_extension": ".py",
   "mimetype": "text/x-python",
   "name": "python",
   "nbconvert_exporter": "python",
   "pygments_lexer": "ipython3",
   "version": "3.7.5"
  }
 },
 "nbformat": 4,
 "nbformat_minor": 2
}
