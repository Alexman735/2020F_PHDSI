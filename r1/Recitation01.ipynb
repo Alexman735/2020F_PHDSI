{
 "cells": [
  {
   "cell_type": "markdown",
   "metadata": {},
   "source": [
    "# Recitation 1: setting up our machines!"
   ]
  },
  {
   "cell_type": "markdown",
   "metadata": {},
   "source": [
    "* Download and install Python (optional) \n",
    "* Download and install Python IDE (optional)\n",
    "* Download and install Jupyter Notebooks\n",
    "* Github account\n",
    "* Access Jupyter notebook on the LU HPCC"
   ]
  },
  {
   "cell_type": "markdown",
   "metadata": {},
   "source": [
    "## Download and install Python (optional) \n",
    "\n",
    "[Python 3](https://docs.python.org/3/) is a versatile programming language that is used for just about anything you can think of.\n",
    "We'll use Python for [statistical computation](https://en.wikipedia.org/wiki/Computational_statistics) in Population Health Data Science (PHDS)-I, and if you're interested, in Population Health Data Science (PHDS)-II and PHDS-III.\n",
    "\n",
    "If you would like to download Python 3 on your own, local, computer, follow the below steps. \n",
    "This is optional. \n",
    "There is no requirement to install Python 3 on your machine. \n",
    "But often students find it easier to work with programming languages like Python on their own machine. \n",
    "\n",
    "\n",
    "### Installation\n",
    "\n",
    "You have two options for installing Python 3. \n",
    "I recommend installing Anaconda, a suite of the Python language and set of handy packages we'll use throughout the course.\n",
    "The other option is to install just Python 3. \n",
    "\n",
    "#### Anaconda\n",
    "To install Anaconda, Python 3 and additional useful packages, use a browser to navigate to https://www.anaconda.com/products/individual, click \"Download\", and follow the default installation instructions.\n",
    "\n",
    "![Anaconda](anaconda.png)\n",
    "\n",
    "#### Just Python 3\n",
    "Use a browser to navigate to https://www.python.org/downloads/, and click on Download Python 3.X.X\n",
    "![Python Install](pythondownload.png)\n",
    "Click on the downloaded package and follow the default installation prompts from the installer."
   ]
  },
  {
   "cell_type": "markdown",
   "metadata": {},
   "source": [
    "## Download and install Python IDE (optional)\n",
    "\n",
    "An integrated development environment, or IDE for short, is a computer program written to make your work easier.\n",
    "Some IDEs are general purpose software for making a list of programming languages easier to use, others were written for a single language. \n",
    "Python has a few IDEs that have had very good reviews. \n",
    "If you download Python 3 to your local machine, it may be worth checking out the following IDEs:\n",
    "\n",
    "* [Spyder](https://www.spyder-ide.org/)\n",
    "* [PyCharm (the free community edition)](https://www.jetbrains.com/pycharm/download/#section=linux)\n",
    "* [Pyzo](https://pyzo.org/start.html)\n",
    "\n",
    "If you try one of these IDEs and love (or hate) using it, let me know!"
   ]
  },
  {
   "cell_type": "markdown",
   "metadata": {},
   "source": [
    "## Download and install Jupyter Notebooks (optional)\n",
    "\n",
    "A Jupyter notebook is software that integrates the Python programming language with a graphical interface and the ability to include text in between lines of code.\n",
    "Jupyter is a useful way to analyze data and share your results with others (for example your professor).\n",
    "\n",
    "If you installed Anaconda than the software for Jupyter notebooks is pre-installed. You're pretty much done!\n",
    "First open an Anaconda navigator (instructions here https://docs.anaconda.com/anaconda/user-guide/getting-started/) and then click Jupyter Notebook and install. \n",
    "\n",
    "If you decided to manually install Python 3 then you'll need to also install Jupyter Notebooks. \n",
    "\n",
    "### For a Mac\n",
    "Open a \"terminal\" window and run the following command: curl https://bootstrap.pypa.io/get-pip.py -o get-pip.py\n",
    "\n",
    "### For Windows\n",
    "First follow [this tutorial](https://www.geeksforgeeks.org/how-to-install-pip-on-windows/) to install PIP and then \n",
    "type the following command into a windows terminal: python -m pip install jupyter"
   ]
  },
  {
   "cell_type": "markdown",
   "metadata": {},
   "source": [
    "## Git and GitHub\n",
    "\n",
    "[Git](https://git-scm.com/) is a version control language---a programming language that keeps successive versions of your work to help you rewind to previous code and collaborate with a team.\n",
    "Code, data, visualizations, and any other documents needed for a project are all stored in a **git repository**. \n",
    "One repository should correspond to one project.\n",
    "[GitHub](https://github.com/) is a set of servers allowing users to create accounts, their own Git repositories, and most importantly share their projects with others.\n",
    "\n",
    "### Creating a GitHub Account\n",
    "Use a browser to navigate to https://github.com/ and press \"Sign up\". \n",
    "![SignUpPage](signup.png)\n",
    "\n",
    "Clicking \"Sign up\" takes you to a form where you'll need to enter\n",
    "* A username\n",
    "* An email address (use your LU-issued email address)\n",
    "* A password\n",
    "\n",
    "![FillOutForm](form.png)\n",
    "\n",
    "### Installing Git\n",
    "We will work with Git using [GitHubDesktop](https://desktop.github.com/).\n",
    "To download GitHubDesktop, navigate to https://desktop.github.com/, click on \"Download for XXX\" where XXX is Mac, Windows, or Linux, and follow the defaults given by the GitHubDesktop installer."
   ]
  },
  {
   "cell_type": "markdown",
   "metadata": {},
   "source": [
    "## Access Jupyter notebook on the LU HPCC\n",
    "\n",
    "If you do not want to download Python 3 and Jupyter to your local computer, we can use resources provided by Lehigh to use Jupyter and Python. \n",
    "To access Jupyter Notebooks and python via Lehigh University's cluster computer, use a browser to navigate to \n",
    "https://hpcportal.cc.lehigh.edu/. \n",
    "You'll be asked for a username and password.\n",
    "Type in your Lehigh username, password, and press enter. \n",
    "![UsernamePassword](usernamepwd.png)\n",
    "\n",
    "You'll be served the following site\n",
    "![SolSite](solsite.png)\n",
    "\n",
    "You can use a Jupyter notebook by clicking \"Interactive Apps\" and then \"Jupyter Notebooks\".\n",
    "![InteractiveApps](interactiveapps.png)\n",
    "\n",
    "Next you'll be presented with an allocation screen. \n",
    "![Allocation](allocation.png)\n",
    "\n",
    "When you use a resource on Lehigh's cluster computer you need to request the exact resources you need. \n",
    "After a request is made your computer is put \"in line\" until the cluster computer allocates your requested resources for the time you requested. \n",
    "If you request more cores or more time it may take a few minutes for the cluster computer to find the right resources for you. \n",
    "When you specify the number of cores and number of hours requested, click \"Launch\"\n",
    "![Launch](launch.png)\n",
    "\n",
    "You should see your requested \"job\" Queued. \n",
    "![Queue](queue.png)\n",
    "\n",
    "After a few minutes, when the cluster has made space for your requested time and number of cores, you're screen will change to the following\n",
    "\n",
    "And finally you will be able to access a Jupyter Notebooks server. \n",
    "\n"
   ]
  }
 ],
 "metadata": {
  "kernelspec": {
   "display_name": "Python 3",
   "language": "python",
   "name": "python3"
  },
  "language_info": {
   "codemirror_mode": {
    "name": "ipython",
    "version": 3
   },
   "file_extension": ".py",
   "mimetype": "text/x-python",
   "name": "python",
   "nbconvert_exporter": "python",
   "pygments_lexer": "ipython3",
   "version": "3.7.5"
  }
 },
 "nbformat": 4,
 "nbformat_minor": 2
}
