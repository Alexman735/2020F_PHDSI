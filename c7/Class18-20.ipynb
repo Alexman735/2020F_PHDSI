{
 "cells": [
  {
   "cell_type": "markdown",
   "metadata": {},
   "source": [
    "## The normal distribution and \"expectedness\"\n",
    "\n",
    "The Normal (or Gaussian) distribution describes the probability of a continuous random variable.\n",
    "This is the (likely familiar) bell curve. \n",
    "\n",
    "### Definition\n",
    "The Normal distribution has two parameters: the mean ($\\mu$) and the standard deviation ($\\sigma$). \n",
    "The pdf is symmetric and unimodel and defined over all values from negative infinity to positive infinity. \n",
    "Values close to the mean are much, much more likely that values further from the mean. \n",
    "Because of this, the Normal distribution describes phenomena or values of a r.v. that are more or less expected to be close to $\\mu$---surprises are not very likely. \n",
    "\n",
    "\\begin{align}\n",
    "    f(x) &= \\frac{1}{\\sqrt{2\\pi} \\sigma} e^{ - \\frac{(x-\\mu)^{2}}{2\\sigma}  }\\\\\n",
    "         &= \\frac{1}{\\sqrt{2\\pi \\sigma^{2} } } \\exp \\left\\{ - \\frac{(x-\\mu)^{2}}{2\\sigma}  \\right\\} \\\\\n",
    "         &= \\left( 2\\pi \\sigma^{2} \\right)^{-1/2} \\exp \\left\\{ -\\frac{1}{2} \\left(\\frac{x-\\mu}{\\sigma}\\right)^{2}  \\right\\}\n",
    "\\end{align}\n",
    "\n",
    "### Expectation and variance\n",
    "\n",
    "If $X$ is a r.v. and normally distributed $X \\sim \\mathcal{N}\\left( \\mu, \\sigma^{2}\\right)$,\n",
    "the expectation is \n",
    "\n",
    "\\begin{align}\n",
    "    E(x) = \\mu\n",
    "\\end{align}\n",
    "\n",
    "and variance is \n",
    "\n",
    "\\begin{align}\n",
    "    Var(x) = \\sigma^{2}\n",
    "\\end{align}"
   ]
  },
  {
   "cell_type": "code",
   "execution_count": 2,
   "metadata": {},
   "outputs": [
    {
     "data": {
      "image/png": "[encoded data removed]",
      "text/plain": [
       "<Figure size 432x288 with 1 Axes>"
      ]
     },
     "metadata": {},
     "output_type": "display_data"
    }
   ],
   "source": [
    "from scipy import stats\n",
    "\n",
    "Pdf = stats.norm(0,1).pdf # first number is  mean and seoncd number is std dev\n",
    "domain = np.linspace(-4,4,200) # 200 points linearly spaced between -3 and 3\n",
    "\n",
    "plt.style.use(\"fivethirtyeight\")\n",
    "fig,ax = plt.subplots()\n",
    "\n",
    "ax.plot(domain,Pdf(domain) ,'k-',lw=2,alpha=0.5)\n",
    "\n",
    "ax.set_xlabel(\"Values\")\n",
    "ax.set_ylabel(\"Probability Density\")\n",
    "\n",
    "ax.text(0.99,0.99,\"Normal Pdf\",fontsize=14,transform=ax.transAxes,ha='right')\n",
    "\n",
    "fig.set_tight_layout(True)\n",
    "plt.show()"
   ]
  },
  {
   "cell_type": "markdown",
   "metadata": {},
   "source": [
    "### The expectedness of Normal distributions\n",
    "\n",
    "The normal distribution's pdf is a decreasing exponential of a squared quantity. \n",
    "We know exponentials increase and decrease fast, and squaring the term inside the exp means they grow or shrink even fast. \n",
    "Because of this, high probabilities are assigned to intervals close to the mean. \n",
    "In some sense, a r.v. with a normal distribution assumes data are more or less expected to be near the mean. \n",
    "\n",
    "To be more precise, a 0.68 probability is assigned to the interval within one standard deviation of the mean, 0.95 probability within 2 standard deviations and 0.997 within three standard deviations:\n",
    "\n",
    "* $p[ (\\mu - \\sigma, \\mu + \\sigma) ]   = 0.68$\n",
    "* $p[ (\\mu - 2\\sigma, \\mu + 2\\sigma) ] = 0.95$\n",
    "* $p[ (\\mu - 3\\sigma, \\mu + 3\\sigma) ] = 0.997$\n",
    "\n",
    "\n",
    "It is important to keep in mind that a normal distribution characterizes values expected to be close to their mean---most values will fall within 2 standard deviations.\n",
    "\n",
    "### Z scores and \"standardizing\"\n",
    "\n",
    "The normal distribution also plays a role in \"standardizing\" data. \n",
    "We can standardize a variable $X$ with the following algorithm:\n",
    "1. Compute the mean of X\n",
    "2. Compute the standard deviation of X\n",
    "3. For each value in X\n",
    "    1. subtract the mean\n",
    "    2. divide the value in 3.1. by the standard deviation\n",
    "\n",
    "\n",
    "By standardizing, the values of $X$ are put in terms of units of standard deviation. \n",
    "A value of $0$ mean the value is the same as the mean of the data.\n",
    "A value of $1$ is one standard deviation larger than the mean and so on. \n",
    "\n",
    "Standardizing is important when you want to compare two variables that have different units, or that have different variances around their mean. \n"
   ]
  },
  {
   "cell_type": "markdown",
   "metadata": {},
   "source": [
    "## The Poisson distribution and incidence \n",
    "\n",
    "### Definition\n",
    "\n",
    "A random variable $X$ has a Poisson distribution---$X\\sim \\text{Pois}\\left( \\lambda \\right)$--- if it is discrete and it's probability mass function is \n",
    "\n",
    "\\begin{align}\n",
    "    p(X = k) = e^{-\\lambda} \\frac{ \\lambda^{k} }{ k! }\n",
    "\\end{align}\n",
    "\n",
    "A Poisson distributed random variable assigns probabilities to the number of events that occur over a specific time period. The parameter $\\lambda$ is typically thought of as the rate of events per unit of time. For example, the number of deaths per month, number of phone calls per week, or number of emails per hour (so many). \n",
    "\n",
    "### Expected value and variance\n",
    "\n",
    "The expected value is \n",
    "\n",
    "\\begin{align}\n",
    "    \\text{E}(X) = \\lambda\n",
    "\\end{align}\n",
    "\n",
    "and the variance is \n",
    "\n",
    "\\begin{align}\n",
    "    \\text{Var}(X) = \\lambda\n",
    "\\end{align}\n",
    "\n",
    "### Two major assumptions\n",
    "\n",
    "The biggest assumption a Poisson random variable makes is that the expected number of events over a length of time $t$ is equal to $\\lambda t$---the expected number of events are proportional to the length of time we observe. \n",
    "As an example, if we observed 10 influenza-like illness cases per week in Lehigh county, then we would expect to see 40 cases over a month (a 4-week period).\n",
    "\n",
    "The same assumption goes for the probability of observing events too. \n",
    "Assuming $\\lambda = $ 10 cases of influenza-like illness per week, the probability of observing 12 cases in a given week is \n",
    "\n",
    "\\begin{align}\n",
    "    p(X = 12) = e^{-10} \\frac{ 10^{12} }{ 12! } = 0.09.\n",
    "\\end{align}\n",
    "\n",
    "The probability of observing 12 cases over the period of a month (4 weeks) is\n",
    "\n",
    "\\begin{align}\n",
    "    p(X = 12) = e^{-40} \\frac{ 40^{12} }{ 12! } = 1.49 \\times 10^{-7}.\n",
    "\\end{align}\n",
    "\n",
    "Here, we needed to change our rate parameter from $\\frac{\\text{ILI cases}}{week}$ to $\\frac{\\text{ILI cases}}{month}$\n",
    "\n",
    "\n",
    "\n",
    "### Application\n",
    "\n",
    "As of 2020-10-04 at 14:00, the Pennsylvania Department of Health reported the following COVID-19 [data](https://www.health.pa.gov/topics/disease/coronavirus/Pages/Cases.aspx):\n",
    "\n",
    "* 158,001 confirmed tests\n",
    "* 5,544 probable tests\n",
    "* 1,931,635 negative tests\n",
    "\n",
    "We can define a Poisson random variable $(X)$ with rate parameter $\\lambda = \\frac{158,001}{2,095,180} = 0.075$ positive cases per test. We could redefine our $\\lambda$ as $75$ positive cases per $1,000$ tests and compute probabilites like\n",
    "\n",
    "\\begin{align}\n",
    "    p(X = 95) = \\exp(-75) 75^{ 95 } / 95! = 0.003\n",
    "\\end{align}\n",
    "\n",
    "and even plot the probability mass function for counts between 60 and 100"
   ]
  },
  {
   "cell_type": "code",
   "execution_count": 15,
   "metadata": {},
   "outputs": [
    {
     "data": {
      "text/plain": [
       "Text(0.99, 0.99, '$X\\\\sim \\\\mathrm{Pois}(75)$')"
      ]
     },
     "execution_count": 15,
     "metadata": {},
     "output_type": "execute_result"
    },
    {
     "data": {
      "image/png": "[encoded data removed]",
      "text/plain": [
       "<Figure size 432x288 with 1 Axes>"
      ]
     },
     "metadata": {},
     "output_type": "display_data"
    }
   ],
   "source": [
    "import scipy.stats \n",
    "fig, ax = plt.subplots()\n",
    "\n",
    "poissonRVPMF = scipy.stats.poisson(75).pmf\n",
    "\n",
    "domain = np.arange(60,100,1)\n",
    "\n",
    "ax.scatter( domain, poissonRVPMF(domain) ) \n",
    "for x,y in zip(domain,poissonRVPMF(domain)):\n",
    "    ax.plot( [x]*2, [0,y], color=\"b\",alpha=0.5 )\n",
    "ax.set_xlabel(\"Number of positive cases in PA out of 1,000 tests\",fontsize=12)\n",
    "ax.set_ylabel(\"Probability\",fontsize=12)\n",
    "\n",
    "ax.tick_params(which=\"both\",labelsize=10)\n",
    "ax.text(0.99,0.99,r\"$X\\sim \\mathrm{Pois}(75)$\",transform=ax.transAxes,ha=\"right\")"
   ]
  },
  {
   "cell_type": "markdown",
   "metadata": {},
   "source": [
    "## Sampling Distribution and Confidence intervals"
   ]
  },
  {
   "cell_type": "code",
   "execution_count": null,
   "metadata": {},
   "outputs": [],
   "source": []
  },
  {
   "cell_type": "code",
   "execution_count": null,
   "metadata": {},
   "outputs": [],
   "source": []
  },
  {
   "cell_type": "code",
   "execution_count": null,
   "metadata": {},
   "outputs": [],
   "source": []
  }
 ],
 "metadata": {
  "kernelspec": {
   "display_name": "Python 3",
   "language": "python",
   "name": "python3"
  },
  "language_info": {
   "codemirror_mode": {
    "name": "ipython",
    "version": 3
   },
   "file_extension": ".py",
   "mimetype": "text/x-python",
   "name": "python",
   "nbconvert_exporter": "python",
   "pygments_lexer": "ipython3",
   "version": "3.7.5"
  }
 },
 "nbformat": 4,
 "nbformat_minor": 2
}
