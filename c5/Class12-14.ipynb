{
 "cells": [
  {
   "cell_type": "markdown",
   "metadata": {},
   "source": [
    "## Expectation, variance, and distribution of Random variables\n",
    "\n",
    "**Random variables** assign numerical values to the outcome of an experiment or otherwise random phenomena. \n",
    "The study of random variables is central to describing the majority of subjects that arise in population health.\n",
    "The number of patients who experienced an adverse event, the proportion of a population susceptible to an infectious disease, and the association between cigarette sales and lung cancer in a community are all examples of assigning a numerical value to the outcome of a random phenomena---they are all examples of describing our world with random variables. "
   ]
  },
  {
   "cell_type": "markdown",
   "metadata": {},
   "source": [
    "### Discrete and continuous random variables\n",
    "\n",
    "We can classify random variables into two types: (i) discrete and (ii) continuous. \n",
    "A **discrete** random variable takes a finite, distinct set of numerical values. \n",
    "For example, we can define a discrete r.v. to be the number of individuals infected with a respiratory disease in a fixed population.\n",
    "A **continuous** random variable takes an infinite number of numerical values. \n",
    "For example, we can defined a continuous r.v. to be the [creatinine clearance](https://www.sciencedirect.com/topics/medicine-and-dentistry/creatinine-clearance) of a patient, a continuous measurement of the rate of waste eliminated by the body through the kidneys.\n",
    "\n",
    "Discrete random variables are often easier to conceptualize that continuous random variables. "
   ]
  },
  {
   "cell_type": "markdown",
   "metadata": {},
   "source": [
    "### Expectation and variance for discrete random variables\n",
    "\n",
    "The **expectation** of a random variable is the sum of each value of the random variable weighted by the probability that value will occur. \n",
    "\n",
    "If $X$ is a random variable then the expectation of $X$ is \n",
    "\n",
    "\\begin{align}\n",
    "    \\text{E}(X) & = x_{1} p(x_{1}) + x_{2} p(x_{2}) + \\cdots + x_{n} p(x_{n}) \\\\\n",
    "                & \\sum_{i=1}^{N} x_{i} p(x_{i})\n",
    "\\end{align}\n",
    "\n",
    "where the random variable $X$ can take any of $n$ values from $x_{1}$ to $x_{n}$.\n",
    "\n",
    "The **variance** of a random variable is the sum of squared differences between each value of the random variable and it's expectation weighted by the probability that value will occur.  \n",
    "\n",
    "\\begin{align}\n",
    "    \\text{Var}(X) &= \\left[x_{1}-E(X)\\right]^2 p(x_{1}) + \\left[x_{2}-E(X)\\right]^2 p(x_{2}) + \\cdots + \\left[x_{n}-E(X)\\right]^2 p(x_{n}) \\\\\n",
    "                  &= \\sum_{i=1}^{N} \\left[x_{i}-E(X)\\right]^2 p(x_{i})\n",
    "\\end{align}\n",
    "\n",
    "\n",
    "---\n",
    "QSA: Does the expectation and variance of a r.v. remind you of any statistics?\n",
    "---\n"
   ]
  },
  {
   "cell_type": "markdown",
   "metadata": {},
   "source": [
    "### The Expectation of a function of a r.v.\n",
    "\n",
    "We can generalize the expectation of a random $[E(X)]$ allowing us to compute the expectation of any function of a random variable. \n",
    "The expected value of a function of a r.v. $X$ is \n",
    "\n",
    "\\begin{align}\n",
    "    E[f(X)] = \\sum_{i=1}^{N} f(x_{i})p(x_{i}) \n",
    "\\end{align}\n",
    "\n",
    "The expected value of $f(X)$ is just the value of each $f(x_{i})$ weighted by how often the value $x_{i}$ occurs. \n",
    "To see that this expectation is more general than our original definition, we can compute $E[f(X)]$ where $f$ is the identity function ($f(x) = x$).\n",
    "\n",
    "\\begin{align}\n",
    "    E[f(X)] &= \\sum_{i=1}^{N} f(x_{i})p(x_{i}) \\\\\n",
    "            &= \\sum_{i=1}^{N} x_{i}p(x_{i}) \\\\\n",
    "            &= E(X)\n",
    "\\end{align}"
   ]
  },
  {
   "cell_type": "markdown",
   "metadata": {},
   "source": [
    "### Probability distribution of random variables\n",
    "\n",
    "Just like a set of disjoint outcomes and their associated probabilities defined a probability distribution, the values of a random variable and their associated probabilities defined a probability distribution of that r.v.\n",
    "Some probability distributions of random variables are so common that they have been standardized. \n",
    "Below we will discuss five random variables, their expectation and variance, and an example of how to apply them in real-world examples using Python. "
   ]
  },
  {
   "cell_type": "markdown",
   "metadata": {},
   "source": [
    "### Bernoulli\n",
    "\n",
    "#### Definition\n",
    "\n",
    "A random variable $X$ follows a **Bernoulli** distribution if $X$ takes either the value $0$ or $1$, and \n",
    "\n",
    "\\begin{align}\n",
    "    p(x) = \\begin{cases} 0 & (1-\\theta)\\\\ 1 & \\theta \\end{cases} \n",
    "\\end{align}\n",
    "\n",
    "We write that $X \\sim \\text{Bern}(\\theta)$, in words, that $X$ follows a Bernoulli distribution with parameter theta.\n",
    "\n",
    "#### Expectation and variance\n",
    "\n",
    "The expected value of $X$, if it is distributed Bernoulli is \n",
    "\n",
    "\\begin{align}\n",
    "    \\text{E}(X) &= 1 \\times p(X=1) + 0 \\times p(X=0)\\\\\n",
    "         &= 1 \\times \\theta + 0 \\times (1 - \\theta)\\\\\n",
    "         &= \\theta\n",
    "\\end{align}\n",
    "\n",
    "The variance of $X$ is \n",
    "\n",
    "\\begin{align}\n",
    "    \\text{Var}(X) &= (1-\\theta)^2 \\times p(X=1) + (0 - \\theta)^2 \\times p(X=0)\\\\\n",
    "         &= (1-\\theta)^2 \\times \\theta +  \\theta^2 \\times (1 - \\theta)\\\\\n",
    "         &= \\theta (1-\\theta) \\left[  (1-\\theta) + \\theta \\right]\\\\\n",
    "         &= \\theta (1-\\theta)\n",
    "\\end{align}\n",
    "\n",
    "#### Application\n",
    "\n",
    "The US Food and Drug Administration (FDA) allows the voluntary addition of adverse event records for devices. \n",
    "This data base is called [MAUDE](https://www.accessdata.fda.gov/scripts/cdrh/cfdocs/cfmaude/search.cfm): Manufacturer and User Facility Device Experience. \n",
    "MAUDE is a searchable database, and I searched and extracted events reported on the RESOLUTE ONYX Drug-eluting stent, manufactured by [Medtronic](https://www.medtronic.com/us-en/healthcare-professionals/products/cardiovascular/coronary/stents/resolute-onyx-des.html). \n",
    "\n",
    "Let's load the database into Python and look at how we can defined Bernoulli random variables to describe our data.  "
   ]
  },
  {
   "cell_type": "code",
   "execution_count": 11,
   "metadata": {},
   "outputs": [
    {
     "data": {
      "text/html": [
       "<div>\n",
       "<style scoped>\n",
       "    .dataframe tbody tr th:only-of-type {\n",
       "        vertical-align: middle;\n",
       "    }\n",
       "\n",
       "    .dataframe tbody tr th {\n",
       "        vertical-align: top;\n",
       "    }\n",
       "\n",
       "    .dataframe thead th {\n",
       "        text-align: right;\n",
       "    }\n",
       "</style>\n",
       "<table border=\"1\" class=\"dataframe\">\n",
       "  <thead>\n",
       "    <tr style=\"text-align: right;\">\n",
       "      <th></th>\n",
       "      <th>Web Address</th>\n",
       "      <th>Report Number</th>\n",
       "      <th>Event Date</th>\n",
       "      <th>Event Type</th>\n",
       "      <th>Manufacturer</th>\n",
       "      <th>Date Received</th>\n",
       "      <th>Product Code</th>\n",
       "      <th>Brand Name</th>\n",
       "      <th>Device_Problem</th>\n",
       "      <th>Event text</th>\n",
       "    </tr>\n",
       "  </thead>\n",
       "  <tbody>\n",
       "    <tr>\n",
       "      <th>0</th>\n",
       "      <td>https://www.accessdata.fda.gov/scripts/cdrh/cf...</td>\n",
       "      <td>9612164-2020-03220</td>\n",
       "      <td>2020-08-30</td>\n",
       "      <td>Malfunction</td>\n",
       "      <td>MEDTRONIC IRELAND</td>\n",
       "      <td>2020-08-31</td>\n",
       "      <td>NIQ</td>\n",
       "      <td>RESOLUTE ONYX RX</td>\n",
       "      <td>Material Deformation</td>\n",
       "      <td>Event Description: DURING A PROCEDURE AN ATTEM...</td>\n",
       "    </tr>\n",
       "    <tr>\n",
       "      <th>1</th>\n",
       "      <td>https://www.accessdata.fda.gov/scripts/cdrh/cf...</td>\n",
       "      <td>9612164-2020-03224</td>\n",
       "      <td>2020-04-27</td>\n",
       "      <td>Death</td>\n",
       "      <td>MEDTRONIC IRELAND</td>\n",
       "      <td>2020-08-31</td>\n",
       "      <td>NIQ</td>\n",
       "      <td>RESOLUTE ONYX RX</td>\n",
       "      <td>Adverse Event Without Identified Device or Use...</td>\n",
       "      <td>Event Description: DURING INDEX PROCEDURE, FOU...</td>\n",
       "    </tr>\n",
       "    <tr>\n",
       "      <th>2</th>\n",
       "      <td>https://www.accessdata.fda.gov/scripts/cdrh/cf...</td>\n",
       "      <td>9612164-2020-03225</td>\n",
       "      <td>2020-04-27</td>\n",
       "      <td>Death</td>\n",
       "      <td>MEDTRONIC IRELAND</td>\n",
       "      <td>2020-08-31</td>\n",
       "      <td>NIQ</td>\n",
       "      <td>RESOLUTE ONYX RX</td>\n",
       "      <td>Adverse Event Without Identified Device or Use...</td>\n",
       "      <td>Event Description: DURING INDEX PROCEDURE, FOU...</td>\n",
       "    </tr>\n",
       "    <tr>\n",
       "      <th>3</th>\n",
       "      <td>https://www.accessdata.fda.gov/scripts/cdrh/cf...</td>\n",
       "      <td>9612164-2020-03226</td>\n",
       "      <td>2020-04-27</td>\n",
       "      <td>Death</td>\n",
       "      <td>MEDTRONIC IRELAND</td>\n",
       "      <td>2020-08-31</td>\n",
       "      <td>NIQ</td>\n",
       "      <td>RESOLUTE ONYX RX</td>\n",
       "      <td>Adverse Event Without Identified Device or Use...</td>\n",
       "      <td>Event Description: DURING INDEX PROCEDURE, FOU...</td>\n",
       "    </tr>\n",
       "    <tr>\n",
       "      <th>4</th>\n",
       "      <td>https://www.accessdata.fda.gov/scripts/cdrh/cf...</td>\n",
       "      <td>9612164-2020-03227</td>\n",
       "      <td>2020-04-27</td>\n",
       "      <td>Death</td>\n",
       "      <td>MEDTRONIC IRELAND</td>\n",
       "      <td>2020-08-31</td>\n",
       "      <td>NIQ</td>\n",
       "      <td>RESOLUTE ONYX RX</td>\n",
       "      <td>Adverse Event Without Identified Device or Use...</td>\n",
       "      <td>Event Description: DURING INDEX PROCEDURE, FOU...</td>\n",
       "    </tr>\n",
       "  </tbody>\n",
       "</table>\n",
       "</div>"
      ],
      "text/plain": [
       "                                         Web Address       Report Number  \\\n",
       "0  https://www.accessdata.fda.gov/scripts/cdrh/cf...  9612164-2020-03220   \n",
       "1  https://www.accessdata.fda.gov/scripts/cdrh/cf...  9612164-2020-03224   \n",
       "2  https://www.accessdata.fda.gov/scripts/cdrh/cf...  9612164-2020-03225   \n",
       "3  https://www.accessdata.fda.gov/scripts/cdrh/cf...  9612164-2020-03226   \n",
       "4  https://www.accessdata.fda.gov/scripts/cdrh/cf...  9612164-2020-03227   \n",
       "\n",
       "  Event Date   Event Type       Manufacturer Date Received Product Code  \\\n",
       "0 2020-08-30  Malfunction  MEDTRONIC IRELAND    2020-08-31          NIQ   \n",
       "1 2020-04-27        Death  MEDTRONIC IRELAND    2020-08-31          NIQ   \n",
       "2 2020-04-27        Death  MEDTRONIC IRELAND    2020-08-31          NIQ   \n",
       "3 2020-04-27        Death  MEDTRONIC IRELAND    2020-08-31          NIQ   \n",
       "4 2020-04-27        Death  MEDTRONIC IRELAND    2020-08-31          NIQ   \n",
       "\n",
       "         Brand Name                                     Device_Problem  \\\n",
       "0  RESOLUTE ONYX RX                               Material Deformation   \n",
       "1  RESOLUTE ONYX RX  Adverse Event Without Identified Device or Use...   \n",
       "2  RESOLUTE ONYX RX  Adverse Event Without Identified Device or Use...   \n",
       "3  RESOLUTE ONYX RX  Adverse Event Without Identified Device or Use...   \n",
       "4  RESOLUTE ONYX RX  Adverse Event Without Identified Device or Use...   \n",
       "\n",
       "                                          Event text  \n",
       "0  Event Description: DURING A PROCEDURE AN ATTEM...  \n",
       "1  Event Description: DURING INDEX PROCEDURE, FOU...  \n",
       "2  Event Description: DURING INDEX PROCEDURE, FOU...  \n",
       "3  Event Description: DURING INDEX PROCEDURE, FOU...  \n",
       "4  Event Description: DURING INDEX PROCEDURE, FOU...  "
      ]
     },
     "execution_count": 11,
     "metadata": {},
     "output_type": "execute_result"
    }
   ],
   "source": [
    "# Load Data from a uniform resource locator (url)\n",
    "import pandas as pd\n",
    "\n",
    "maudeData = pd.read_excel(\"https://github.com/computationalUncertaintyLab/2020F_PHDSI/blob/master/c5/maudeExcelReport13.xls?raw=true\")\n",
    "\n",
    "# Pandas is a Python module for working with data\n",
    "#, and it is common to abbreviate the module pandas as pd. \n",
    "\n",
    "# Above, i used the function read_csv() from pd to load our dataset.\n",
    "\n",
    "# We can view the first few rows of our data by using the function \"head\"\n",
    "maudeData.head()"
   ]
  },
  {
   "cell_type": "markdown",
   "metadata": {},
   "source": [
    "The MAUDE data related to the RESOLUTE ONYX device has 10 variables:\n",
    "* The unique web address that describes a particular event\n",
    "* The unique report number assigned to that event\n",
    "* The date of the event (YYYY-MM-DD)\n",
    "* The type of event\n",
    "* The Manufacturer of the device\n",
    "* The date the event was reported to the manufacturer\n",
    "* The product code\n",
    "* The brand name of the device\n",
    "* A longer description of the type of event\n",
    "* A detailed textual description of the event.\n",
    "\n",
    "\n",
    "We can associate a Bernoulli random variable $(M)$ that assigns the value $1$ to observations identified as Malfunctions and the value $0$ to all other event types.\n",
    "Since $M$ is Bernoulli, we know it takes the value 1 with the probability $\\theta$.\n",
    "To estimate $\\theta$, lets use Python to\n",
    "1 - map the variable \"Event type\" to a new variable M taking values 1 when the event is a malfunction and 0 otherwise.\n",
    "2- Compute the proportion of observations that take the value $1$ our data set. \n",
    "\n",
    "#### 1: Map Event type to a 0/1 variable"
   ]
  },
  {
   "cell_type": "code",
   "execution_count": 12,
   "metadata": {},
   "outputs": [
    {
     "name": "stdout",
     "output_type": "stream",
     "text": [
      "[1, 0, 0, 0, 0, 0, 1, 1, 1, 0, 0, 1, 0, 0, 0, 0, 1, 1, 1, 0, 1, 1, 1, 0, 1, 1, 1, 0, 1, 1, 1, 1, 1, 1, 1, 0, 1, 1, 1, 0, 1, 1, 0, 0, 0, 0, 0, 0, 0, 0, 0, 0, 0, 0, 0, 0, 1, 1, 1, 1, 1, 1, 1, 1, 1, 1, 1, 1, 1, 1, 1, 0, 0, 1, 1, 0, 0, 0, 0, 1, 1, 0, 0, 0, 1, 1, 1, 1, 1, 1, 1, 1, 0, 1, 1, 1, 1, 1, 1, 1, 1, 1, 0, 0, 0, 0, 0, 1, 1, 1, 1, 1, 1, 1, 1, 1, 0, 1, 1, 0, 0, 1, 0, 0, 0, 0, 1, 0, 1, 1, 1, 1, 1, 1, 1, 1, 1, 1, 1, 0, 1, 1, 1, 1, 1, 1, 1, 1, 1, 1, 1, 0, 1, 1, 0, 1, 0, 1, 1, 1, 1, 1, 0, 1, 1, 0, 0, 0, 0, 1, 0, 0, 1, 1, 0, 1, 1, 0, 1, 1, 1, 1, 1, 1, 0, 0, 1, 0, 1, 1, 1, 0, 0, 0, 0, 1, 0, 1, 1, 0, 0, 0, 0, 1, 1, 1, 1, 0, 1, 0, 1, 1, 0, 0, 1, 1, 1, 1, 0, 0, 0, 0, 0, 1, 1, 1, 1, 1, 1, 1, 1, 1, 0, 1, 1, 1, 1, 0, 1, 0, 1, 1, 1, 1, 1, 1, 1, 0, 1, 1, 1, 1, 1, 1, 1, 1, 1, 1, 0, 1, 1, 1, 1, 1, 1, 1, 1, 1, 1, 1, 0, 0, 1, 1, 0, 0, 0, 0, 1, 0, 0, 1, 1, 1, 0, 1, 1, 1, 1, 1, 1, 0, 1, 1, 1, 1, 1, 1, 0, 1, 1, 1, 1, 1, 0, 1, 1, 1, 0, 1, 1, 1, 1, 1, 1, 1, 1, 1, 1, 1, 1, 0, 0, 0, 0, 0, 0, 0, 0, 0, 1, 1, 1, 1, 1, 1, 0, 0, 0, 1, 1, 1, 1, 1, 1, 1, 0, 1, 0, 0, 0, 0, 1, 0, 0, 0, 1, 1, 1, 1, 0, 1, 1, 1, 1, 0, 1, 1, 0, 0, 0, 1, 1, 1, 0, 1, 1, 1, 0, 0, 0, 0, 0, 0, 0, 1, 1, 1, 1, 0, 0, 0, 1, 1, 1, 1, 0, 1, 1, 1, 1, 1, 0, 0, 1, 0, 0, 1, 1, 1, 0, 1, 0, 0, 0, 0, 0, 0, 0, 0, 0, 1, 1, 1, 1, 1, 1, 1, 0, 0, 0, 1, 0, 1, 1, 1, 1, 1, 1, 1, 1, 1, 1, 1, 0, 0, 0, 0, 1, 1, 1, 0, 0, 0, 1, 1, 1, 1, 1, 1, 1, 1, 1, 1, 1, 1, 1, 1, 1, 1, 1, 1, 0, 1, 0, 1, 0, 1, 0, 1, 0, 1, 1, 0, 0, 1, 0, 0, 1, 0, 1, 1, 0, 0, 1, 1, 1, 1, 0]\n",
      "Proportion of 1s 0.64\n"
     ]
    }
   ],
   "source": [
    "#### The long way\n",
    "\n",
    "# Define a new list M in python \n",
    "M = [] \n",
    "\n",
    "# Loop through each observation, extract event type, and determine if it is a malfunction\n",
    "for (index, row) in maudeData.iterrows():\n",
    "    eventType = row['Event Type'] # assign the variable eventType the String in that row.\n",
    "    \n",
    "    if eventType==\"Malfunction\": # if the event type is the string \"Malfunction\"\n",
    "        M.append(1)\n",
    "    else:\n",
    "        M.append(0)\n",
    "        \n",
    "# Print out the variable M to make sure we have 0s and 1s\n",
    "print(M)\n",
    "\n",
    "# Compute the proportion of 1s\n",
    "propOf1s = np.mean(M)\n",
    "print(\"Proportion of 1s {:.2f}\".format(propOf1s))"
   ]
  },
  {
   "cell_type": "markdown",
   "metadata": {},
   "source": [
    "A best guess is that the random variable $M \\sim \\text{Bern(0.64)}$.\n",
    "Among observations of adverse events for this device, there is a 0.64 probability they are classified as a Malfunction."
   ]
  },
  {
   "cell_type": "markdown",
   "metadata": {},
   "source": [
    "### Geometric\n",
    "\n",
    "#### Definition\n",
    "\n",
    "A random variable has a geometric distribution if it is defined on all non-negative integers and the probability distribution of these values is \n",
    "\n",
    "\\begin{align}\n",
    "    p(X = t) = (1-p)^{t-1} p\n",
    "\\end{align}\n",
    "\n",
    "This type of random variable describes a sequence of trials (experiments, outcomes, etc) where the first $t-1$ trials \"failed\" and the final trial was a \"success\". \n",
    "For example, the number of shots until you make a free-throw on shot $t$ or the number of negative COVID-19 tests until the $t^{\\text{th}}$ test is positive could both have a geometric distribution. \n",
    "\n",
    "The values of a random variable are the number of attempts until a success. \n",
    "\n",
    "#### Expectation and variance\n",
    "\n",
    "If a r.v. X has a geometric distribution with parameter $p$, \n",
    "\n",
    "\\begin{align}\n",
    "    X \\sim \\text{Geom}(p)\n",
    "\\end{align}\n",
    "\n",
    "The expected value is \n",
    "\n",
    "\\begin{align}\n",
    "    E(X) = \\frac{1}{p}\n",
    "\\end{align}\n",
    "    \n",
    "and the variance is\n",
    "\n",
    "\\begin{align}\n",
    "    \\text{Var}(X) =  \\frac{1}{p} \\frac{(1-p)}{p}\n",
    "\\end{align}\n",
    "\n",
    "#### Application (more MAUDE)\n",
    "\n",
    "We could consider a geometric variable $(Y)$ that describes the probability of the number of adverse events up until we observe an AE classified as a malfunction.\n",
    "From the data, we estimated $p=0.64$.\n",
    "\n",
    "We can describe the probability distribution of $Y$ by plotting on the horizontal axis the number of observation until a malfunction and on the vertical axis the corresponding probability. "
   ]
  },
  {
   "cell_type": "code",
   "execution_count": 20,
   "metadata": {},
   "outputs": [
    {
     "data": {
      "image/png": "[encoded data removed]",
      "text/plain": [
       "<Figure size 432x288 with 1 Axes>"
      ]
     },
     "metadata": {},
     "output_type": "display_data"
    }
   ],
   "source": [
    "def prob(p,n):\n",
    "    return p*(1-p)**(n-1)\n",
    "\n",
    "xs = np.arange(1,10)\n",
    "probs = []\n",
    "\n",
    "for x in xs:\n",
    "    p = prob(0.64,x)\n",
    "    probs.append(p)\n",
    "\n",
    "plt.style.use(\"fivethirtyeight\")\n",
    "fig,ax = plt.subplots()\n",
    "\n",
    "ax.scatter(xs,probs,alpha=1.)\n",
    "\n",
    "for (x,prb) in zip(xs,probs):\n",
    "    ax.plot([x]*2, [0,prb],\"b-\",lw=2.)\n",
    "\n",
    "ax.set_xlabel(\"Number of observations until malfunction\",fontsize=12)\n",
    "ax.set_ylabel(r\"Probability $(p(Y))$\",fontsize=12)\n",
    "\n",
    "ax.tick_params(size=2.,direction=\"in\")"
   ]
  },
  {
   "cell_type": "markdown",
   "metadata": {},
   "source": [
    "### Probability mass function and the cumulative mass function\n",
    "\n",
    "When we look at the figure above, we see that we plotted a pair of points (x,p(x)). \n",
    "For every  disjoint outcome of the random variable $Y=y_{1},y_{2},\\cdots,y_{n}$ there is a corresponding, unique, probability $p_{1},p_{2},\\cdots,p_{n}$. \n",
    "\n",
    "This function from the disjoint values of a random variable to the probability of those outcomes is called a **probability mass function** or **p.m.f**.\n",
    "\n",
    "The pmf for a random variable that follows a geometric distribution is \n",
    "\n",
    "\\begin{align}\n",
    "    f(y) = (1-p)^{y-1} p\n",
    "\\end{align}\n",
    "\n",
    "Here, $y$ is the outcome---the number of trials until a success---and function produces the probability of our the random will have that value $f(y)$.  \n",
    "\n"
   ]
  },
  {
   "cell_type": "markdown",
   "metadata": {},
   "source": [
    "### Uniform (discrete)"
   ]
  },
  {
   "cell_type": "markdown",
   "metadata": {},
   "source": [
    "### Uniform (continuous)"
   ]
  },
  {
   "cell_type": "markdown",
   "metadata": {},
   "source": [
    "### Normal"
   ]
  },
  {
   "cell_type": "markdown",
   "metadata": {},
   "source": [
    "### Binomial"
   ]
  },
  {
   "cell_type": "markdown",
   "metadata": {},
   "source": [
    "### Poisson"
   ]
  },
  {
   "cell_type": "code",
   "execution_count": null,
   "metadata": {},
   "outputs": [],
   "source": []
  },
  {
   "cell_type": "code",
   "execution_count": null,
   "metadata": {},
   "outputs": [],
   "source": []
  },
  {
   "cell_type": "code",
   "execution_count": null,
   "metadata": {},
   "outputs": [],
   "source": []
  },
  {
   "cell_type": "code",
   "execution_count": null,
   "metadata": {},
   "outputs": [],
   "source": []
  },
  {
   "cell_type": "code",
   "execution_count": null,
   "metadata": {},
   "outputs": [],
   "source": []
  }
 ],
 "metadata": {
  "kernelspec": {
   "display_name": "Python 3",
   "language": "python",
   "name": "python3"
  },
  "language_info": {
   "codemirror_mode": {
    "name": "ipython",
    "version": 3
   },
   "file_extension": ".py",
   "mimetype": "text/x-python",
   "name": "python",
   "nbconvert_exporter": "python",
   "pygments_lexer": "ipython3",
   "version": "3.7.5"
  }
 },
 "nbformat": 4,
 "nbformat_minor": 2
}
