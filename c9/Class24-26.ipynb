{
 "cells": [
  {
   "cell_type": "markdown",
   "metadata": {},
   "source": [
    "### Statistical programming with Python 3\n",
    "\n",
    "To date, we have used [Python 3]() to help us analyze potentially hazardous chemicals in haircare products, voluntary adverse events due to cardiovascular devices reported to the FDA, confirmed cases of COVID-19 including reported cases at Lehigh University and regional differences in case counts, how to find the most probable disease given symptoms, and a classical model of infectious disease dynamics. \n",
    "Python is a versatile tool that can analyze many different types of data.\n",
    "\n",
    "The goal for these notes is to (i) re-emphasize Python building blocks and (ii) more formally introduce [Pandas](https://pandas.pydata.org/) or Python Data Analysis library. \n",
    "Python fundamentals and Pandas will be used to explore the [Ultimate Halloween Candy Power Ranking](https://fivethirtyeight.com/videos/the-ultimate-halloween-candy-power-ranking/)."
   ]
  },
  {
   "cell_type": "markdown",
   "metadata": {},
   "source": [
    "The [Ultimate Halloween Candy Power Ranking](https://fivethirtyeight.com/videos/the-ultimate-halloween-candy-power-ranking/) was a study to rank halloween candy by popularity. \n",
    "To estimate candy rankings, a [website](http://walthickey.com/2017/10/18/whats-the-best-halloween-candy/) was designed that picked two candies at random and asked users to pick the treat they would prefer as a trick-or-treater. \n",
    "\n",
    "The candy rankings dataset is on [GitHub](https://github.com/) and can be accessed using a function from the pandas library called [read_csv](https://pandas.pydata.org/pandas-docs/stable/reference/api/pandas.read_csv.html). \n",
    "The **read_csv** function takes as input the path of a csv file on your local computer or a url of a csv file on the internet.\n",
    "The URL for candy data is [https://raw.githubusercontent.com/fivethirtyeight/data/master/candy-power-ranking/candy-data.csv](https://raw.githubusercontent.com/fivethirtyeight/data/master/candy-power-ranking/candy-data.csv)"
   ]
  },
  {
   "cell_type": "code",
   "execution_count": 86,
   "metadata": {},
   "outputs": [],
   "source": [
    "candyData = pd.read_csv(\"https://raw.githubusercontent.com/fivethirtyeight/data/master/candy-power-ranking/candy-data.csv\")"
   ]
  },
  {
   "cell_type": "markdown",
   "metadata": {},
   "source": [
    "We can look at the first $N$ rows of our dataset by using the function [head(N)](https://pandas.pydata.org/pandas-docs/stable/reference/api/pandas.DataFrame.head.html). "
   ]
  },
  {
   "cell_type": "code",
   "execution_count": 87,
   "metadata": {},
   "outputs": [
    {
     "data": {
      "text/html": [
       "<div>\n",
       "<style scoped>\n",
       "    .dataframe tbody tr th:only-of-type {\n",
       "        vertical-align: middle;\n",
       "    }\n",
       "\n",
       "    .dataframe tbody tr th {\n",
       "        vertical-align: top;\n",
       "    }\n",
       "\n",
       "    .dataframe thead th {\n",
       "        text-align: right;\n",
       "    }\n",
       "</style>\n",
       "<table border=\"1\" class=\"dataframe\">\n",
       "  <thead>\n",
       "    <tr style=\"text-align: right;\">\n",
       "      <th></th>\n",
       "      <th>competitorname</th>\n",
       "      <th>chocolate</th>\n",
       "      <th>fruity</th>\n",
       "      <th>caramel</th>\n",
       "      <th>peanutyalmondy</th>\n",
       "      <th>nougat</th>\n",
       "      <th>crispedricewafer</th>\n",
       "      <th>hard</th>\n",
       "      <th>bar</th>\n",
       "      <th>pluribus</th>\n",
       "      <th>sugarpercent</th>\n",
       "      <th>pricepercent</th>\n",
       "      <th>winpercent</th>\n",
       "    </tr>\n",
       "  </thead>\n",
       "  <tbody>\n",
       "    <tr>\n",
       "      <th>0</th>\n",
       "      <td>100 Grand</td>\n",
       "      <td>1</td>\n",
       "      <td>0</td>\n",
       "      <td>1</td>\n",
       "      <td>0</td>\n",
       "      <td>0</td>\n",
       "      <td>1</td>\n",
       "      <td>0</td>\n",
       "      <td>1</td>\n",
       "      <td>0</td>\n",
       "      <td>0.732</td>\n",
       "      <td>0.860</td>\n",
       "      <td>66.971725</td>\n",
       "    </tr>\n",
       "    <tr>\n",
       "      <th>1</th>\n",
       "      <td>3 Musketeers</td>\n",
       "      <td>1</td>\n",
       "      <td>0</td>\n",
       "      <td>0</td>\n",
       "      <td>0</td>\n",
       "      <td>1</td>\n",
       "      <td>0</td>\n",
       "      <td>0</td>\n",
       "      <td>1</td>\n",
       "      <td>0</td>\n",
       "      <td>0.604</td>\n",
       "      <td>0.511</td>\n",
       "      <td>67.602936</td>\n",
       "    </tr>\n",
       "    <tr>\n",
       "      <th>2</th>\n",
       "      <td>One dime</td>\n",
       "      <td>0</td>\n",
       "      <td>0</td>\n",
       "      <td>0</td>\n",
       "      <td>0</td>\n",
       "      <td>0</td>\n",
       "      <td>0</td>\n",
       "      <td>0</td>\n",
       "      <td>0</td>\n",
       "      <td>0</td>\n",
       "      <td>0.011</td>\n",
       "      <td>0.116</td>\n",
       "      <td>32.261086</td>\n",
       "    </tr>\n",
       "    <tr>\n",
       "      <th>3</th>\n",
       "      <td>One quarter</td>\n",
       "      <td>0</td>\n",
       "      <td>0</td>\n",
       "      <td>0</td>\n",
       "      <td>0</td>\n",
       "      <td>0</td>\n",
       "      <td>0</td>\n",
       "      <td>0</td>\n",
       "      <td>0</td>\n",
       "      <td>0</td>\n",
       "      <td>0.011</td>\n",
       "      <td>0.511</td>\n",
       "      <td>46.116505</td>\n",
       "    </tr>\n",
       "    <tr>\n",
       "      <th>4</th>\n",
       "      <td>Air Heads</td>\n",
       "      <td>0</td>\n",
       "      <td>1</td>\n",
       "      <td>0</td>\n",
       "      <td>0</td>\n",
       "      <td>0</td>\n",
       "      <td>0</td>\n",
       "      <td>0</td>\n",
       "      <td>0</td>\n",
       "      <td>0</td>\n",
       "      <td>0.906</td>\n",
       "      <td>0.511</td>\n",
       "      <td>52.341465</td>\n",
       "    </tr>\n",
       "    <tr>\n",
       "      <th>5</th>\n",
       "      <td>Almond Joy</td>\n",
       "      <td>1</td>\n",
       "      <td>0</td>\n",
       "      <td>0</td>\n",
       "      <td>1</td>\n",
       "      <td>0</td>\n",
       "      <td>0</td>\n",
       "      <td>0</td>\n",
       "      <td>1</td>\n",
       "      <td>0</td>\n",
       "      <td>0.465</td>\n",
       "      <td>0.767</td>\n",
       "      <td>50.347546</td>\n",
       "    </tr>\n",
       "    <tr>\n",
       "      <th>6</th>\n",
       "      <td>Baby Ruth</td>\n",
       "      <td>1</td>\n",
       "      <td>0</td>\n",
       "      <td>1</td>\n",
       "      <td>1</td>\n",
       "      <td>1</td>\n",
       "      <td>0</td>\n",
       "      <td>0</td>\n",
       "      <td>1</td>\n",
       "      <td>0</td>\n",
       "      <td>0.604</td>\n",
       "      <td>0.767</td>\n",
       "      <td>56.914547</td>\n",
       "    </tr>\n",
       "    <tr>\n",
       "      <th>7</th>\n",
       "      <td>Boston Baked Beans</td>\n",
       "      <td>0</td>\n",
       "      <td>0</td>\n",
       "      <td>0</td>\n",
       "      <td>1</td>\n",
       "      <td>0</td>\n",
       "      <td>0</td>\n",
       "      <td>0</td>\n",
       "      <td>0</td>\n",
       "      <td>1</td>\n",
       "      <td>0.313</td>\n",
       "      <td>0.511</td>\n",
       "      <td>23.417824</td>\n",
       "    </tr>\n",
       "    <tr>\n",
       "      <th>8</th>\n",
       "      <td>Candy Corn</td>\n",
       "      <td>0</td>\n",
       "      <td>0</td>\n",
       "      <td>0</td>\n",
       "      <td>0</td>\n",
       "      <td>0</td>\n",
       "      <td>0</td>\n",
       "      <td>0</td>\n",
       "      <td>0</td>\n",
       "      <td>1</td>\n",
       "      <td>0.906</td>\n",
       "      <td>0.325</td>\n",
       "      <td>38.010963</td>\n",
       "    </tr>\n",
       "    <tr>\n",
       "      <th>9</th>\n",
       "      <td>Caramel Apple Pops</td>\n",
       "      <td>0</td>\n",
       "      <td>1</td>\n",
       "      <td>1</td>\n",
       "      <td>0</td>\n",
       "      <td>0</td>\n",
       "      <td>0</td>\n",
       "      <td>0</td>\n",
       "      <td>0</td>\n",
       "      <td>0</td>\n",
       "      <td>0.604</td>\n",
       "      <td>0.325</td>\n",
       "      <td>34.517681</td>\n",
       "    </tr>\n",
       "  </tbody>\n",
       "</table>\n",
       "</div>"
      ],
      "text/plain": [
       "       competitorname  chocolate  fruity  caramel  peanutyalmondy  nougat  \\\n",
       "0           100 Grand          1       0        1               0       0   \n",
       "1        3 Musketeers          1       0        0               0       1   \n",
       "2            One dime          0       0        0               0       0   \n",
       "3         One quarter          0       0        0               0       0   \n",
       "4           Air Heads          0       1        0               0       0   \n",
       "5          Almond Joy          1       0        0               1       0   \n",
       "6           Baby Ruth          1       0        1               1       1   \n",
       "7  Boston Baked Beans          0       0        0               1       0   \n",
       "8          Candy Corn          0       0        0               0       0   \n",
       "9  Caramel Apple Pops          0       1        1               0       0   \n",
       "\n",
       "   crispedricewafer  hard  bar  pluribus  sugarpercent  pricepercent  \\\n",
       "0                 1     0    1         0         0.732         0.860   \n",
       "1                 0     0    1         0         0.604         0.511   \n",
       "2                 0     0    0         0         0.011         0.116   \n",
       "3                 0     0    0         0         0.011         0.511   \n",
       "4                 0     0    0         0         0.906         0.511   \n",
       "5                 0     0    1         0         0.465         0.767   \n",
       "6                 0     0    1         0         0.604         0.767   \n",
       "7                 0     0    0         1         0.313         0.511   \n",
       "8                 0     0    0         1         0.906         0.325   \n",
       "9                 0     0    0         0         0.604         0.325   \n",
       "\n",
       "   winpercent  \n",
       "0   66.971725  \n",
       "1   67.602936  \n",
       "2   32.261086  \n",
       "3   46.116505  \n",
       "4   52.341465  \n",
       "5   50.347546  \n",
       "6   56.914547  \n",
       "7   23.417824  \n",
       "8   38.010963  \n",
       "9   34.517681  "
      ]
     },
     "execution_count": 87,
     "metadata": {},
     "output_type": "execute_result"
    }
   ],
   "source": [
    "candyData.head(10)"
   ]
  },
  {
   "cell_type": "markdown",
   "metadata": {},
   "source": [
    "## Analysis plan\n",
    "\n",
    "We will run the following analysis:\n",
    "\n",
    "* Examine simple characteristics of the data\n",
    "    * Count the number of observations\n",
    "    * Count the number of unique candies\n",
    "    * Count the number of candies that are categorized as chocolate, fruity, caramel, etc.\n",
    "    \n",
    "* Define a random variable that describes sugar percentage \n",
    "    * Discuss whether this variable should be discrete or continuous\n",
    "    * Discuss the potential values this r.v. can take\n",
    "    * Build a histogram from the data to estimate this r.v.'s probability distribution\n",
    "\n",
    "* Generate, test, and interpret a hypothesis\n",
    "    * Use EDA to generate a hypothesis about our data\n",
    "    * Informally describe our hypothesis\n",
    "    * Formally define our hypothesis\n",
    "    * State the test we will use to support or refute our hypothesis\n",
    "    * Interpret the results of our statistical test\n",
    "    \n",
    "* Discuss the results of our test"
   ]
  },
  {
   "cell_type": "markdown",
   "metadata": {},
   "source": [
    "### Examine simple characteristics of the data"
   ]
  },
  {
   "cell_type": "markdown",
   "metadata": {},
   "source": [
    "#### Count the number of observations\n",
    "\n",
    "The [len](https://docs.python.org/3/library/functions.html#len) function counts the number of items in a [list](https://docs.python.org/3/tutorial/datastructures.html), the number of items in a [tuple](https://docs.python.org/3/tutorial/datastructures.html?highlight=tuple#tuples-and-sequences), and the number of keys in a [dictionary](https://docs.python.org/3/tutorial/datastructures.html?highlight=tuple#dictionaries).  \n",
    "\n",
    "When used on a Pandas dataframe, len counts the number of rows (observations). "
   ]
  },
  {
   "cell_type": "code",
   "execution_count": 88,
   "metadata": {},
   "outputs": [
    {
     "name": "stdout",
     "output_type": "stream",
     "text": [
      "85\n"
     ]
    }
   ],
   "source": [
    "numberOfObservations = len(candyData)\n",
    "print(numberOfObservations)"
   ]
  },
  {
   "cell_type": "markdown",
   "metadata": {},
   "source": [
    "The [shape](https://pandas.pydata.org/pandas-docs/stable/reference/api/pandas.DataFrame.shape.html) function is built-in to every Pandas dataframe and returns a tuple of (the number of rows, the number of columns)."
   ]
  },
  {
   "cell_type": "code",
   "execution_count": 89,
   "metadata": {},
   "outputs": [
    {
     "name": "stdout",
     "output_type": "stream",
     "text": [
      "Shape = \n",
      "(85, 13)\n",
      "First item of shape is number of rows: 85\n"
     ]
    }
   ],
   "source": [
    "numRowsAndNumCols = candyData.shape\n",
    "print(\"Shape = \") # print out the tuple\n",
    "print(numRowsAndNumCols)\n",
    "\n",
    "numberOfObservations = numRowsAndNumCols[0]                                       # access the first item in the tuple\n",
    "print(\"First item of shape is number of rows: {:d}\".format(numberOfObservations)) # print out the tuple"
   ]
  },
  {
   "cell_type": "markdown",
   "metadata": {},
   "source": [
    "#### Count the number of candies that are categorized as chocolate, fruity, caramel, etc.\n",
    "\n",
    "To count the number of candies that fall into each attribute included in our data, we will need to do the following:\n",
    "1. Extract the names of the columns in our dataset referring to candy attributes\n",
    "2. Loop through each candy attribute\n",
    "3. Extract the variable that identifies if each of our 85 candies has or does not have this attribute\n",
    "4. Sum the number of candies that have the attribute\n",
    "5. Store the attributes and counts in two lists\n",
    "6. Plot the frequency of candy attributes using a barplot"
   ]
  },
  {
   "cell_type": "markdown",
   "metadata": {},
   "source": [
    "##### Column names\n",
    "\n",
    "Pandas dataframes come pre-built with a method (a function associated with a specific Python object) to return the named of each column---[columns](https://pandas.pydata.org/pandas-docs/stable/reference/api/pandas.DataFrame.columns.html). \n",
    "\n",
    "To use the columns method, add \".columns\" to the end of your dataframe. "
   ]
  },
  {
   "cell_type": "code",
   "execution_count": 90,
   "metadata": {},
   "outputs": [
    {
     "name": "stdout",
     "output_type": "stream",
     "text": [
      "Index(['competitorname', 'chocolate', 'fruity', 'caramel', 'peanutyalmondy',\n",
      "       'nougat', 'crispedricewafer', 'hard', 'bar', 'pluribus', 'sugarpercent',\n",
      "       'pricepercent', 'winpercent'],\n",
      "      dtype='object')\n"
     ]
    }
   ],
   "source": [
    "columnNames = candyData.columns\n",
    "print(columnNames)"
   ]
  },
  {
   "cell_type": "markdown",
   "metadata": {},
   "source": [
    "##### Loop through candy attributes\n",
    "\n",
    "We need to subset our list of column names to candy attributes and built a for loop that runs through all the candy attributes.\n",
    "The \".columns\" method returns a list of columns name and we can subset this list to candy attributes by using [slices](https://docs.python.org/3/glossary.html#term-slice)."
   ]
  },
  {
   "cell_type": "code",
   "execution_count": 91,
   "metadata": {},
   "outputs": [
    {
     "name": "stdout",
     "output_type": "stream",
     "text": [
      "Index(['chocolate', 'fruity', 'caramel', 'peanutyalmondy', 'nougat',\n",
      "       'crispedricewafer', 'hard', 'bar', 'pluribus'],\n",
      "      dtype='object')\n"
     ]
    }
   ],
   "source": [
    "candyAttributes = columnNames[1:9+1]\n",
    "print(candyAttributes)"
   ]
  },
  {
   "cell_type": "markdown",
   "metadata": {},
   "source": [
    "We can build a [for loop](https://docs.python.org/3/tutorial/controlflow.html?highlight=loop#for-statements) that iterates over our list like this"
   ]
  },
  {
   "cell_type": "code",
   "execution_count": 92,
   "metadata": {},
   "outputs": [
    {
     "name": "stdout",
     "output_type": "stream",
     "text": [
      "chocolate\n",
      "fruity\n",
      "caramel\n",
      "peanutyalmondy\n",
      "nougat\n",
      "crispedricewafer\n",
      "hard\n",
      "bar\n",
      "pluribus\n"
     ]
    }
   ],
   "source": [
    "for attribute in candyAttributes:\n",
    "        print(attribute)"
   ]
  },
  {
   "cell_type": "markdown",
   "metadata": {},
   "source": [
    "The structure of a **for loop** is the keyword \"for\" followed by the object to assign each item in the loop in order, the keyword \"in\" followed by the object to loop over and finally a colon. \n",
    "Code indented underneath this sentence will be run for every item in the above list. "
   ]
  },
  {
   "cell_type": "markdown",
   "metadata": {},
   "source": [
    "#### Extract the variable that identifies if each of our 85 candies has or does not have this attribute\n",
    "\n",
    "We can extract the column of our dataset that refers to a specific candy attribute, a column name in several ways.\n",
    "The first way uses a Pandas dataframe built-in function \".<column name>\" where the <column name> is a string identifying which column to choose. Let's pick the caramel attribute from our dataset."
   ]
  },
  {
   "cell_type": "code",
   "execution_count": 93,
   "metadata": {},
   "outputs": [
    {
     "name": "stdout",
     "output_type": "stream",
     "text": [
      "0    1\n",
      "1    0\n",
      "2    0\n",
      "3    0\n",
      "4    0\n",
      "5    0\n",
      "6    1\n",
      "7    0\n",
      "8    0\n",
      "9    1\n",
      "Name: caramel, dtype: int64\n"
     ]
    }
   ],
   "source": [
    "caramal = candyData.caramel\n",
    "print(caramal[:10]) # print the first 10/85 items"
   ]
  },
  {
   "cell_type": "markdown",
   "metadata": {},
   "source": [
    "Another method is extract the \"carmel\" attribute is to use square brackets"
   ]
  },
  {
   "cell_type": "code",
   "execution_count": 94,
   "metadata": {},
   "outputs": [
    {
     "name": "stdout",
     "output_type": "stream",
     "text": [
      "   caramel\n",
      "0        1\n",
      "1        0\n",
      "2        0\n",
      "3        0\n",
      "4        0\n",
      "5        0\n",
      "6        1\n",
      "7        0\n",
      "8        0\n",
      "9        1\n"
     ]
    }
   ],
   "source": [
    "caramal = candyData[[\"caramel\"]]\n",
    "print(caramal[:10])"
   ]
  },
  {
   "cell_type": "markdown",
   "metadata": {},
   "source": [
    "A third way to extract the caramel variable is to use the Pandas built-in [loc](https://pandas.pydata.org/pandas-docs/stable/reference/api/pandas.DataFrame.loc.html) function. \n",
    "The loc function takes as input two lists separated by a comma referring to the rows and columns you want to select from a dataframe. \n",
    "You can select rows by building a list of True (the rows you want) and False (the rows you don't) values or by defining a logical statement to test each row and evaluate to True/False.\n",
    "Use a \":\" if you want all rows.\n",
    "\n",
    "You can select columns by providing a list of column names. \n",
    "Use a \":\" if you want all columns."
   ]
  },
  {
   "cell_type": "code",
   "execution_count": 95,
   "metadata": {},
   "outputs": [
    {
     "name": "stdout",
     "output_type": "stream",
     "text": [
      "0    1\n",
      "1    0\n",
      "2    0\n",
      "3    0\n",
      "4    0\n",
      "5    0\n",
      "6    1\n",
      "7    0\n",
      "8    0\n",
      "9    1\n",
      "Name: caramel, dtype: int64\n"
     ]
    }
   ],
   "source": [
    "caramal = candyData.loc[:,\"caramel\"]\n",
    "print(caramal[:10])"
   ]
  },
  {
   "cell_type": "markdown",
   "metadata": {},
   "source": [
    "Let now loop through each candy attribute, count the number of candies that have that attribute, and store the attributes and corresponding frequencies in a list."
   ]
  },
  {
   "cell_type": "code",
   "execution_count": 96,
   "metadata": {},
   "outputs": [
    {
     "data": {
      "text/html": [
       "<div>\n",
       "<style scoped>\n",
       "    .dataframe tbody tr th:only-of-type {\n",
       "        vertical-align: middle;\n",
       "    }\n",
       "\n",
       "    .dataframe tbody tr th {\n",
       "        vertical-align: top;\n",
       "    }\n",
       "\n",
       "    .dataframe thead th {\n",
       "        text-align: right;\n",
       "    }\n",
       "</style>\n",
       "<table border=\"1\" class=\"dataframe\">\n",
       "  <thead>\n",
       "    <tr style=\"text-align: right;\">\n",
       "      <th></th>\n",
       "      <th>attr</th>\n",
       "      <th>count</th>\n",
       "    </tr>\n",
       "  </thead>\n",
       "  <tbody>\n",
       "    <tr>\n",
       "      <th>0</th>\n",
       "      <td>chocolate</td>\n",
       "      <td>37</td>\n",
       "    </tr>\n",
       "    <tr>\n",
       "      <th>1</th>\n",
       "      <td>fruity</td>\n",
       "      <td>38</td>\n",
       "    </tr>\n",
       "    <tr>\n",
       "      <th>2</th>\n",
       "      <td>caramel</td>\n",
       "      <td>14</td>\n",
       "    </tr>\n",
       "    <tr>\n",
       "      <th>3</th>\n",
       "      <td>peanutyalmondy</td>\n",
       "      <td>14</td>\n",
       "    </tr>\n",
       "    <tr>\n",
       "      <th>4</th>\n",
       "      <td>nougat</td>\n",
       "      <td>7</td>\n",
       "    </tr>\n",
       "    <tr>\n",
       "      <th>5</th>\n",
       "      <td>crispedricewafer</td>\n",
       "      <td>7</td>\n",
       "    </tr>\n",
       "    <tr>\n",
       "      <th>6</th>\n",
       "      <td>hard</td>\n",
       "      <td>15</td>\n",
       "    </tr>\n",
       "    <tr>\n",
       "      <th>7</th>\n",
       "      <td>bar</td>\n",
       "      <td>21</td>\n",
       "    </tr>\n",
       "    <tr>\n",
       "      <th>8</th>\n",
       "      <td>pluribus</td>\n",
       "      <td>44</td>\n",
       "    </tr>\n",
       "  </tbody>\n",
       "</table>\n",
       "</div>"
      ],
      "text/plain": [
       "               attr  count\n",
       "0         chocolate     37\n",
       "1            fruity     38\n",
       "2           caramel     14\n",
       "3    peanutyalmondy     14\n",
       "4            nougat      7\n",
       "5  crispedricewafer      7\n",
       "6              hard     15\n",
       "7               bar     21\n",
       "8          pluribus     44"
      ]
     },
     "execution_count": 96,
     "metadata": {},
     "output_type": "execute_result"
    }
   ],
   "source": [
    "fromAttr2Count = {\"attr\":[],\"count\":[]}\n",
    "for attribute in candyAttributes:                           # loop through a list of strings that contain candy attributes\n",
    "    singleVariable = candyData.loc[:,attribute]             # extract the \"attribute\" column from the data\n",
    "    numberOfCandiesThatHaveThisAttr = sum( singleVariable ) # sum this column of 1s and 0s\n",
    "    \n",
    "    # Store computations in a dictionary\n",
    "    fromAttr2Count[\"attr\"].append(attribute)       \n",
    "    fromAttr2Count[\"count\"].append(numberOfCandiesThatHaveThisAttr)\n",
    "attributes = pd.DataFrame(fromAttr2Count)    \n",
    "attributes"
   ]
  },
  {
   "cell_type": "markdown",
   "metadata": {},
   "source": [
    "The [pd.DataFrame](https://pandas.pydata.org/pandas-docs/stable/reference/api/pandas.DataFrame.html) will convert a dictionary into a dataframe, so long as each key refers to a single column.\n",
    "Lets plot our attributes and counts using a barplot."
   ]
  },
  {
   "cell_type": "code",
   "execution_count": 97,
   "metadata": {},
   "outputs": [
    {
     "data": {
      "image/png": "[encoded data removed]",
      "text/plain": [
       "<Figure size 720x360 with 1 Axes>"
      ]
     },
     "metadata": {},
     "output_type": "display_data"
    }
   ],
   "source": [
    "import matplotlib.pyplot as plt\n",
    "import seaborn as sns\n",
    "\n",
    "attributes = attributes.sort_values(\"count\") # sort candy attributes by frequency\n",
    "\n",
    "plt.style.use(\"fivethirtyeight\") # use a style---a set of plot characteristics\n",
    "fig,ax = plt.subplots()          # Initialize a figure and axis for our plot\n",
    "\n",
    "# draw a barplot using seaborn\n",
    "sns.barplot(x=\"attr\",y=\"count\" # define the x and y values \n",
    "            ,color=\"blue\"      # set the color of the bars\n",
    "            ,alpha=0.75        # set the transparancy of the bars\n",
    "            ,data=attributes)  # define what dataset contains the x and y values defined above\n",
    "\n",
    "ax.set_ylim(0,51)                      # set the limits of the vertical axis\n",
    " \n",
    "ax.set_xlabel(\"\")                      # remove the horizontal label (set as an empty string)\n",
    "ax.set_ylabel(\"Frequency\",fontsize=12) # specify a label for the vertical axis\n",
    "\n",
    "ax.tick_params(labelsize=12)           # allow all ticks to be fontsize 12\n",
    "ax.set_xticklabels(ax.get_xticklabels(), fontsize=10, rotation=25,ha=\"right\") # rotate the xticks \n",
    "\n",
    "fig.set_size_inches(10,5)              # set the size of the figure in inches (width, height)\n",
    "plt.show()                             # show us all our hardwork!"
   ]
  },
  {
   "cell_type": "markdown",
   "metadata": {},
   "source": [
    "### Define a random variable that describes sugar percentage \n",
    "\n",
    "Let us define a random variable $S$ that describes the percentage of sugar you might find by selecting at random one of the $85$ candies.\n",
    "   \n",
    "#### Discuss whether this variable should be discrete or continuous and potential values it can take\n",
    "\n",
    "To decide if the r.v. $S$ characterizing sugar percentages in candy should be a discrete or continuous r.v. and to find out what sugar percentages are possible for this data we can extract the sugar percentage variable and plot a histogram. "
   ]
  },
  {
   "cell_type": "code",
   "execution_count": 98,
   "metadata": {},
   "outputs": [
    {
     "data": {
      "image/png": "[encoded data removed]",
      "text/plain": [
       "<Figure size 720x360 with 1 Axes>"
      ]
     },
     "metadata": {},
     "output_type": "display_data"
    }
   ],
   "source": [
    "sugarPCT = candyData.sugarpercent      # extract fraction of sugar from candies in dataset\n",
    "\n",
    "fig,ax = plt.subplots()                # Initialize a figure and axis for our plot \n",
    "\n",
    "sns.distplot(sugarPCT,9,kde=False)     # a seaborn \"distribution plot\" (a histogram)\n",
    "\n",
    "ax.set_xlabel(\"Fraction of candy made with sugar\",fontsize=12) # set the horizontal label\n",
    "ax.set_ylabel(\"Frequency\",fontsize=12)                         # set the vertical label\n",
    "\n",
    "ax.set_yticks(ax.get_yticks()[1:])     # set the ticks for the vertical axis\n",
    "\n",
    "fig.set_size_inches(10,5)              # set the size of the figure in inches (width, height)\n",
    "plt.show()                             # show us all our hardwork!"
   ]
  },
  {
   "cell_type": "markdown",
   "metadata": {},
   "source": [
    "What we've learned from our historgram is that our r.v. $S$ should likely be considered continuous, taking values between 0 and 1 inclusive."
   ]
  },
  {
   "cell_type": "markdown",
   "metadata": {},
   "source": [
    "### Generate, test, and interpret a hypothesis\n",
    "\n",
    "#### Use EDA to generate a hypothesis about our data\n",
    "\n",
    "We will explore the association between the fraction of candy that is made of sugar (sugar percent) to the percentage of times the candy won when compared to another (win percentage).   \n",
    "First we will build a scatter plot to look at each individual pair of (Sugar percent, Win percentage) and second divide our dataset by a sugar percent and make a box plot of win percentage. "
   ]
  },
  {
   "cell_type": "code",
   "execution_count": 113,
   "metadata": {},
   "outputs": [
    {
     "data": {
      "text/plain": [
       "(-1.0, 101.0)"
      ]
     },
     "execution_count": 113,
     "metadata": {},
     "output_type": "execute_result"
    },
    {
     "data": {
      "image/png": "[encoded data removed]",
      "text/plain": [
       "<Figure size 432x288 with 1 Axes>"
      ]
     },
     "metadata": {},
     "output_type": "display_data"
    },
    {
     "data": {
      "image/png": "[encoded data removed]",
      "text/plain": [
       "<Figure size 432x288 with 1 Axes>"
      ]
     },
     "metadata": {},
     "output_type": "display_data"
    }
   ],
   "source": [
    "# scatter plot\n",
    "fig, ax = plt.subplots()                         # Initialize a figure and axis for our plot \n",
    "\n",
    "# scatterplot\n",
    "sns.scatterplot(x=\"sugarpercent\",y=\"winpercent\"\n",
    "                ,data=candyData\n",
    "                ,ax = ax)    \n",
    "\n",
    "ax.set_xlabel(\"Fraction of candy made of sugar\")  # set the horizontal axis\n",
    "ax.set_ylabel(\"Percent of comparisons won\")       # set the vertical axis\n",
    "\n",
    "ax.set_ylim(-1,101)                               # set the bottom and top y limits\n",
    "\n",
    "candyData[\"morethan90\"] = [ 1 if x > 0.90 else 0 for x in candyData.sugarpercent]\n",
    "\n",
    "fig, ax = plt.subplots()                                                   # Initialize a figure and axis for our plot \n",
    "sns.boxplot( x=\"morethan90\", y=\"winpercent\", data = candyData, ax=ax )\n",
    "ax.set_xticklabels([\"<=90% sugar\", \"> 90% sugar\"])\n",
    "\n",
    "ax.set_xlabel(\"\")\n",
    "ax.set_ylabel(\"Percent of comparisons won\")\n",
    "\n",
    "ax.set_ylim(-1,101)"
   ]
  },
  {
   "cell_type": "markdown",
   "metadata": {},
   "source": [
    "#### Informally describe our hypothesis\n",
    "\n",
    "I think trick-or-treaters prefer candies very high in sugar. "
   ]
  },
  {
   "cell_type": "markdown",
   "metadata": {},
   "source": [
    "#### Formally define our hypothesis\n",
    "\n",
    "Let us define $\\mu$ as the mean win percentage for haloween candies. \n",
    "I formally hypothesize\n",
    "\n",
    "\\begin{align}\n",
    "    H_{0}:&  \\mu_{\\le 90} = \\mu_{> 90} \\\\\n",
    "    H_{\\text{A}}:& \\mu_{\\le 90} < \\mu_{> 90} \\\\\n",
    "\\end{align}\n",
    "\n",
    "or \n",
    "\n",
    "\\begin{align}\n",
    "    H_{0}:&  \\mu_{\\le 90} - \\mu_{> 90} = 0 \\\\\n",
    "    H_{\\text{A}}:& \\mu_{\\le 90} - \\mu_{> 90} < 0 \\\\\n",
    "\\end{align}\n",
    "\n"
   ]
  },
  {
   "cell_type": "markdown",
   "metadata": {},
   "source": [
    "#### State the test we will use to support or refute our hypothesis\n",
    "\n",
    "To test our hypothesis we will compute our observed t-statistic of the difference in the average win percentage between candy with less than 90% sugar and candy with greater than 90% sugar.\n",
    "With our t-stat we can calculate the probability of observing t-statistics as or more extreme than our observed statistics assuming the null hypothesis is true---called the [pvalue](https://en.wikipedia.org/wiki/P-value).\n",
    "\n",
    "This test is commonly called a **one-sided two sample t-test** and the statistic is computed like this\n",
    "\n",
    "\\begin{align}\n",
    "    t = \\dfrac{ ( \\mu_{> 90} - \\mu_{\\le 90} ) - \\text{Null diff.}}{ S \\Big / \\sqrt{N} }\n",
    "\\end{align}\n",
    "\n",
    "where $S$ is the standard deviation of the difference in win percentages and $N$ is the number of samples in our dataset. \n",
    "\n",
    "We will consider a pvalue less than 0.05 evidence that the average win percentage of candy with more than 90% sugar is greater than the win percentage of candy with less than or equal to 90% sugar. \n",
    "This is our significance level $(\\alpha=0.05)$"
   ]
  },
  {
   "cell_type": "code",
   "execution_count": 118,
   "metadata": {},
   "outputs": [
    {
     "name": "stdout",
     "output_type": "stream",
     "text": [
      "pvalue = 0.278\n"
     ]
    }
   ],
   "source": [
    "import scipy.stats # scipy stats has code for computing t-tests. \n",
    "\n",
    "# use the loc function to subset our dataset to win percentages for candy with <= 90 and > 90 % sugar\n",
    "winPctsLessThan90 = candyData.loc[ candyData.morethan90==0 , \"winpercent\"] \n",
    "winPctsMoreThan90 = candyData.loc[ candyData.morethan90==1 , \"winpercent\"] \n",
    "\n",
    "# run the test\n",
    "twoSidedTest = scipy.stats.ttest_ind(winPctsLessThan90,winPctsMoreThan90) # two-sided test\n",
    "\n",
    "# the test returns the probability our null distribution was smaller than and larger than our t-statistic.\n",
    "# we only need one side of this and since the distribution is symmetric \n",
    "# we can divide our two-sided probability in half. \n",
    "oneSidedProb = twoSidedTest[-1]/2\n",
    "\n",
    "print(\"pvalue = {:0.3f}\".format(oneSidedProb))"
   ]
  },
  {
   "cell_type": "markdown",
   "metadata": {},
   "source": [
    "## QSA: How would you interpret the results of our statistical analysis ?"
   ]
  }
 ],
 "metadata": {
  "kernelspec": {
   "display_name": "Python 3",
   "language": "python",
   "name": "python3"
  },
  "language_info": {
   "codemirror_mode": {
    "name": "ipython",
    "version": 3
   },
   "file_extension": ".py",
   "mimetype": "text/x-python",
   "name": "python",
   "nbconvert_exporter": "python",
   "pygments_lexer": "ipython3",
   "version": "3.7.5"
  }
 },
 "nbformat": 4,
 "nbformat_minor": 2
}
