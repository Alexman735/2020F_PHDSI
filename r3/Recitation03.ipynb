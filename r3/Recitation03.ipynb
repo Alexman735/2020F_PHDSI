{
 "cells": [
  {
   "cell_type": "markdown",
   "metadata": {},
   "source": [
    "## Loops\n",
    "\n",
    "Loops allow us to \"copy and paste\" lines of code with a similar structure, replacing certain aspects of those lines with  values from a list, tuple, or dictionary. \n",
    "The two most common types of lists are \"For loops\" and \"While loops\"\n",
    "\n",
    "### [For loops](https://www.w3schools.com/python/python_for_loops.asp)\n",
    "\n",
    "You can use a For loop to run through values in a list:"
   ]
  },
  {
   "cell_type": "code",
   "execution_count": 173,
   "metadata": {},
   "outputs": [
    {
     "name": "stdout",
     "output_type": "stream",
     "text": [
      "1\n",
      "2\n",
      "10\n",
      "Fiddle\n"
     ]
    }
   ],
   "source": [
    "for x in [1,2,10,'Fiddle']:\n",
    "    print(x)"
   ]
  },
  {
   "cell_type": "markdown",
   "metadata": {},
   "source": [
    "The For loop above ran through values in the list ```[1,2,10,'Fiddle']```, assigned each value in order to the variable ```x```, and then executed the code \"inside\" the For Loop. \n",
    "In this case the only code to execute was ```print(x)```. "
   ]
  },
  {
   "cell_type": "markdown",
   "metadata": {},
   "source": [
    "Here is a second example where we do a bit more with each item in the list. "
   ]
  },
  {
   "cell_type": "code",
   "execution_count": 174,
   "metadata": {},
   "outputs": [
    {
     "name": "stdout",
     "output_type": "stream",
     "text": [
      "0\n",
      "-6\n",
      "-7\n",
      "13\n"
     ]
    }
   ],
   "source": [
    "for x in [10,4,3,23]:\n",
    "    y = x-10\n",
    "    print(y)"
   ]
  },
  {
   "cell_type": "markdown",
   "metadata": {},
   "source": [
    "We see that each item in the list ```[10,4,3,23]``` is assigned the variable ```x```.\n",
    "Then we create a variable ```y``` that is ```x-10``` and print the value of ```y```. "
   ]
  },
  {
   "cell_type": "markdown",
   "metadata": {},
   "source": [
    "We can also loop through tuples"
   ]
  },
  {
   "cell_type": "code",
   "execution_count": 175,
   "metadata": {},
   "outputs": [
    {
     "name": "stdout",
     "output_type": "stream",
     "text": [
      "0.220462\n",
      "0.05070626\n",
      "0.75618466\n",
      "0.022046200000000002\n"
     ]
    }
   ],
   "source": [
    "for foodAmountsInGrams in (100,23,343,10):\n",
    "    foodAmountsInLbs = foodAmountsInGrams*0.00220462\n",
    "    print(foodAmountsInLbs)"
   ]
  },
  {
   "cell_type": "markdown",
   "metadata": {},
   "source": [
    "Looping through dictionaries is a bit different. \n",
    "To use a For loop with a dictionary, you need to provide two variables in the loop: one variable for the key and a second variable for the value.\n",
    "You also need to add ```.items``` to the end of the dictionary. "
   ]
  },
  {
   "cell_type": "code",
   "execution_count": 176,
   "metadata": {},
   "outputs": [
    {
     "name": "stdout",
     "output_type": "stream",
     "text": [
      "1\n",
      "(2.3, 4.5, 0.9)\n",
      "2\n",
      "(-2.3, 44.5, -0.9)\n",
      "3\n",
      "(4.3, 14.5, 0.99)\n"
     ]
    }
   ],
   "source": [
    "for (birdNumber,birdCoordsAndFeed) in birdData.items():\n",
    "    print(birdNumber)\n",
    "    print(birdCoordsAndFeed[0])"
   ]
  },
  {
   "cell_type": "markdown",
   "metadata": {},
   "source": [
    "But what is ```birdData.items()``` doing?\n",
    "When you append the code ```.items()``` to any dictionary, a list is created that contains two pieces of information: a key and the corresponding value. "
   ]
  },
  {
   "cell_type": "code",
   "execution_count": 177,
   "metadata": {},
   "outputs": [
    {
     "name": "stdout",
     "output_type": "stream",
     "text": [
      "dict_items([(1, [(2.3, 4.5, 0.9), [430, 222, 450, 233]]), (2, [(-2.3, 44.5, -0.9), [430, 100]]), (3, [(4.3, 14.5, 0.99), [130, 22, 330]])])\n"
     ]
    }
   ],
   "source": [
    "print(birdData.items()) # notice how the below code encloses everything in [], a list!"
   ]
  },
  {
   "cell_type": "markdown",
   "metadata": {},
   "source": [
    "This is not the only way to loop through a dictionary. \n",
    "You can also loop through just the keys "
   ]
  },
  {
   "cell_type": "code",
   "execution_count": 178,
   "metadata": {},
   "outputs": [
    {
     "name": "stdout",
     "output_type": "stream",
     "text": [
      "1\n",
      "2\n",
      "3\n"
     ]
    }
   ],
   "source": [
    "for birdNumber in birdData:\n",
    "    print(birdNumber)"
   ]
  },
  {
   "cell_type": "markdown",
   "metadata": {},
   "source": [
    "As a recap of For loops, before we move to While loops, a For loop has the following structure.\n",
    "\n",
    "```\n",
    "for <variable> in <Python Object>:\n",
    "    Multiple lines of code \n",
    "    to run \n",
    "    for each value in <Python Object>\n",
    "```"
   ]
  },
  {
   "cell_type": "markdown",
   "metadata": {},
   "source": [
    "### [While Loops](https://www.w4schools.com/python/python_while_loops.asp)"
   ]
  },
  {
   "cell_type": "markdown",
   "metadata": {},
   "source": [
    "While loops have a similar structure to For loops. \n",
    "The key difference is that a While loop is finished after a specific condition is met whereas a For loop is finished after it runs through the last value in your list, tuple, or dictionary. \n",
    "\n",
    "Let's look at an example of a While Loop. "
   ]
  },
  {
   "cell_type": "code",
   "execution_count": 179,
   "metadata": {},
   "outputs": [
    {
     "name": "stdout",
     "output_type": "stream",
     "text": [
      "40\n"
     ]
    }
   ],
   "source": [
    "x = 0\n",
    "y = 0\n",
    "while x < 4:\n",
    "    y = y+10 # create a variable y and assign to it the value of y in memory plus an additioanl \"10\"\n",
    "    x = x+1  # create a variable x and assign to it the value of x in memory plus an additional \"1\"\n",
    "print(y)"
   ]
  },
  {
   "cell_type": "markdown",
   "metadata": {},
   "source": [
    "A while loop has the following structure\n",
    "\n",
    "```\n",
    "while <condition>:\n",
    "    Multiple lines of code \n",
    "    to run \n",
    "    for each value in <Python Object>\n",
    "```\n",
    "and once the ```<condition>``` is met the loop finishes. \n"
   ]
  },
  {
   "cell_type": "markdown",
   "metadata": {},
   "source": [
    "### [If else](https://www.w3schools.com/python/python_conditions.asp)\n",
    "\n",
    "One very common conditional structure in any programming language, including Python, is the if-else statement.\n",
    "The if-else statement executes lines of code dependent on whether a list of conditions are met or not. \n",
    "\n",
    "The structure looks like this\n",
    "\n",
    "```\n",
    "    if <some condition>:\n",
    "        indented lines of code\n",
    "        to \n",
    "        run if the condition is True\n",
    "    elif <some other condition>:\n",
    "        indented lines of code\n",
    "        to \n",
    "        run if the first condition was False and the above condition was True\n",
    "    elif <some other condition>:\n",
    "        indented lines of code\n",
    "        to \n",
    "        run if the above two condition were False and this one is True\n",
    "    else:\n",
    "        indented lines\n",
    "        of code\n",
    "        to run if none \n",
    "        of the above statements were true\n",
    "```"
   ]
  },
  {
   "cell_type": "markdown",
   "metadata": {},
   "source": [
    "If-else statements are a way to introduce structure and logic into your program. \n",
    "For example, if I wanted to pick out birds whose first meal was greater than 400 grams I could write"
   ]
  },
  {
   "cell_type": "code",
   "execution_count": 180,
   "metadata": {},
   "outputs": [
    {
     "name": "stdout",
     "output_type": "stream",
     "text": [
      "[1, 2]\n"
     ]
    }
   ],
   "source": [
    "birdNumberWhoAteMoreThan400Grams = []                    # This is an EMPTY list\n",
    "for (birdNum, coordinatesAndMeals) in birdData.items():  # look at all the code we're writing already!\n",
    "    meals = coordinatesAndMeals[1]                       # extract the second entry in our list, the meals. \n",
    "    if meals[0] > 400:                                   # is the first meal they ate more than 400?\n",
    "        birdNumberWhoAteMoreThan400Grams.append(birdNum) # if yes then append their number to a list\n",
    "print(birdNumberWhoAteMoreThan400Grams)"
   ]
  },
  {
   "cell_type": "markdown",
   "metadata": {},
   "source": [
    "### [Functions](https://www.w3schools.com/python/python_functions.asp)\n",
    "\n",
    "Functions are pieces of code that take inputs and return outputs, much like a mathematical function. \n",
    "In Python functions are created with the keyword ```def``` and include the keyword ```return```.\n",
    "Functions are essential components of any program in any language and allow you to run the same piece of code for different inputs. \n",
    "\n",
    "The structure of a function is\n",
    "\n",
    "```\n",
    "def <name of your function>(<inputs separated by commas>):\n",
    "    lines of code\n",
    "    that\n",
    "    are indented\n",
    "    return <the Python object, or information, you want to return>\n",
    "```"
   ]
  },
  {
   "cell_type": "markdown",
   "metadata": {},
   "source": [
    "An example of a function could be to count the number of observations that fall inbetween two numbers.\n",
    "The input would be the observations, and the two numbers to fall between, and we would return the number of observations. "
   ]
  },
  {
   "cell_type": "code",
   "execution_count": 181,
   "metadata": {},
   "outputs": [],
   "source": [
    "def countObsBtw2Numbers(observations, firstNum,seconNum):\n",
    "    count = 0\n",
    "    for obs in observations:\n",
    "        if firstNum <= obs < seconNum: # an example of a condition to be met. \n",
    "            count = count+1\n",
    "    return count"
   ]
  },
  {
   "cell_type": "markdown",
   "metadata": {},
   "source": [
    "We can then generate some observations and apply our function to them."
   ]
  },
  {
   "cell_type": "code",
   "execution_count": 182,
   "metadata": {},
   "outputs": [
    {
     "name": "stdout",
     "output_type": "stream",
     "text": [
      "73\n"
     ]
    }
   ],
   "source": [
    "import numpy as np\n",
    "OneHundredRandomObservations = np.random.normal(0,1,100)  # dont worry, this is the next part of recitation.\n",
    "\n",
    "obsBtwNeg1AndPos1 = countObsBtw2Numbers( OneHundredRandomObservations, -1, 1)\n",
    "print(obsBtwNeg1AndPos1)"
   ]
  },
  {
   "cell_type": "markdown",
   "metadata": {},
   "source": [
    "In the code above, we first generated 100 random observations. \n",
    "Next we applied our function ```countObsBtw2Numbers``` which took three inputs:\n",
    "* The observations we want to count\n",
    "* The first number observations need to be greater than or equal to\n",
    "* The second number observations need to be strictly less than \n",
    "\n",
    "Our function returns an integer called ```count``` and in our code we assigned count to a variable called ```obsBtwNeg1AndPos1```."
   ]
  },
  {
   "cell_type": "markdown",
   "metadata": {},
   "source": [
    "## [Modules](https://www.w3schools.com/python/python_modules.asp)\n",
    "\n",
    "In the code there was a line we didn't talk about yet. \n",
    "It looked like this ```import numpy as np```.\n",
    "This is an example of a module---a computer program that is a (usually large) list of functions. \n",
    "\n",
    "Modules can be downloaded from the web and installed in Python, and many modules we'll use are pre-installed.\n",
    "To access a module you use the ```import``` keyword.\n",
    "The structure for importing a module looks like this\n",
    "\n",
    "```\n",
    "import <name of module> as <an optional way to refer to the module>\n",
    "```\n",
    "\n",
    "In the code above we imported a module named **NumPy** an enormous list of functions  for numerical computing in Python. \n",
    "Inside Numpy (this is the same for other modules) are several different programs that contains lists of functions.\n",
    "You can access a list of functions by placing a dot between the module and list of functions you want to access. \n",
    "\n",
    "In our example we wanted to choose a subset of functions in the ```random``` list under the NumPy module so we wrote\n",
    "```np.random.<the function inside random which is inside Numpy>```.\n"
   ]
  },
  {
   "cell_type": "markdown",
   "metadata": {},
   "source": [
    "## One attempt at taking a SRS of a population.\n",
    "\n",
    "Let's write some code to draw a simple random sample from a population like we discussed in class last week. \n",
    "A simple random sample chooses a subset of observations from a population with equal probability.\n",
    "\n",
    "In the below example I'll generate a population and ask that you write code to draw a simple random sample of 100 observations.\n",
    "Remember you can ask me questions!\n",
    "Ask me during office hours, during non-office hours, over zoom or by email. \n",
    "I'm here to help you learn. "
   ]
  },
  {
   "cell_type": "code",
   "execution_count": 183,
   "metadata": {},
   "outputs": [],
   "source": [
    "population = list( np.random.normal(25,2,10**3) ) # a list of 1,000 observations that we will consider our population.\n",
    "\n",
    "# Write your code for a Simple Random Sample below this line.\n",
    "# -----------------------------------------------------------"
   ]
  }
 ],
 "metadata": {
  "kernelspec": {
   "display_name": "Python 3",
   "language": "python",
   "name": "python3"
  },
  "language_info": {
   "codemirror_mode": {
    "name": "ipython",
    "version": 3
   },
   "file_extension": ".py",
   "mimetype": "text/x-python",
   "name": "python",
   "nbconvert_exporter": "python",
   "pygments_lexer": "ipython3",
   "version": "3.7.5"
  }
 },
 "nbformat": 4,
 "nbformat_minor": 2
}
