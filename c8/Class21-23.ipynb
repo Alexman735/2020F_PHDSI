{
 "cells": [
  {
   "cell_type": "markdown",
   "metadata": {},
   "source": [
    "## Hypothesis testing and Student's T-test\n",
    "\n",
    "### Intro\n",
    "\n",
    "The majority of scientific studies formulate hypotheses---statement about the nature of some phenomena---and rigorously test them.\n",
    "Statistical tests measure the probability of observed or collected data given a specific hypothesis.\n",
    "If the probability of observing your data is small, then we can refute our given hypothesis for a more probable alternative. \n",
    "\n",
    "### The data\n",
    "We'll use data from the [COVID tracking project](https://covidtracking.com/) on the fraction of positive COVID-19 tests across all US states.\n",
    "US states will be our observations and grouped into four regions: West, South, Northeast, and Midwest.\n",
    "Before we develop a hypothesis about the rate of COVID-19 between regions of the US, lets explore the data. "
   ]
  },
  {
   "cell_type": "markdown",
   "metadata": {},
   "source": [
    "### Exploratory Data Analysis\n",
    "\n",
    "Below we read the data from an application programming interface ([API](https://en.wikipedia.org/wiki/API)) provided by developers at the covidtracking project, and merge that data with a second dataset linking states to their census region (West, South, Northeast, and Midwest).\n",
    "\n",
    "The fraction of positive cases is computed for each state and a [boxplot](https://en.wikipedia.org/wiki/Box_plot#:~:text=In%20descriptive%20statistics%2C%20a%20box,whisker%20plot%20and%20box%2Dand%2D) is generated that includes the median, 25th and 75th percentile of the fraction of positive cases at the state level. "
   ]
  },
  {
   "cell_type": "code",
   "execution_count": 5,
   "metadata": {},
   "outputs": [],
   "source": [
    "d = pd.read_csv(\"https://api.covidtracking.com/v1/states/current.csv\") # read data from covidtracking api\n",
    "d[\"fracPos\"] = d.positive/ d.totalTestResults # comppute the fraction of positive tests \n",
    "\n",
    "# read in data linking states to their census regions\n",
    "censusRegions = pd.read_csv(\"https://raw.githubusercontent.com/cphalpert/census-regions/master/us%20census%20bureau%20regions%20and%20divisions.csv\")\n",
    "\n",
    "# To merge two data sets we can use the \"merge\" function from pandas (pd.).\n",
    "# Two datasets are merged by matching up a key (list of variables in your dataset)\n",
    "# from one data set with a key from another. \n"
   ]
  },
  {
   "cell_type": "code",
   "execution_count": 6,
   "metadata": {},
   "outputs": [
    {
     "name": "stdout",
     "output_type": "stream",
     "text": [
      "Data set one\n"
     ]
    },
    {
     "data": {
      "text/html": [
       "<div>\n",
       "<style scoped>\n",
       "    .dataframe tbody tr th:only-of-type {\n",
       "        vertical-align: middle;\n",
       "    }\n",
       "\n",
       "    .dataframe tbody tr th {\n",
       "        vertical-align: top;\n",
       "    }\n",
       "\n",
       "    .dataframe thead th {\n",
       "        text-align: right;\n",
       "    }\n",
       "</style>\n",
       "<table border=\"1\" class=\"dataframe\">\n",
       "  <thead>\n",
       "    <tr style=\"text-align: right;\">\n",
       "      <th></th>\n",
       "      <th>date</th>\n",
       "      <th>state</th>\n",
       "      <th>positive</th>\n",
       "      <th>probableCases</th>\n",
       "      <th>negative</th>\n",
       "      <th>pending</th>\n",
       "      <th>totalTestResults</th>\n",
       "      <th>hospitalizedCurrently</th>\n",
       "      <th>hospitalizedCumulative</th>\n",
       "      <th>inIcuCurrently</th>\n",
       "      <th>...</th>\n",
       "      <th>deathIncrease</th>\n",
       "      <th>hospitalizedIncrease</th>\n",
       "      <th>hash</th>\n",
       "      <th>commercialScore</th>\n",
       "      <th>negativeRegularScore</th>\n",
       "      <th>negativeScore</th>\n",
       "      <th>positiveScore</th>\n",
       "      <th>score</th>\n",
       "      <th>grade</th>\n",
       "      <th>fracPos</th>\n",
       "    </tr>\n",
       "  </thead>\n",
       "  <tbody>\n",
       "    <tr>\n",
       "      <th>0</th>\n",
       "      <td>20201013</td>\n",
       "      <td>AK</td>\n",
       "      <td>11039</td>\n",
       "      <td>NaN</td>\n",
       "      <td>503750</td>\n",
       "      <td>NaN</td>\n",
       "      <td>514789</td>\n",
       "      <td>59.0</td>\n",
       "      <td>NaN</td>\n",
       "      <td>NaN</td>\n",
       "      <td>...</td>\n",
       "      <td>0</td>\n",
       "      <td>0</td>\n",
       "      <td>881fbdb23caeb53c47e5007c8599ec1624e1c68d</td>\n",
       "      <td>0</td>\n",
       "      <td>0</td>\n",
       "      <td>0</td>\n",
       "      <td>0</td>\n",
       "      <td>0</td>\n",
       "      <td>NaN</td>\n",
       "      <td>0.021444</td>\n",
       "    </tr>\n",
       "    <tr>\n",
       "      <th>1</th>\n",
       "      <td>20201013</td>\n",
       "      <td>AL</td>\n",
       "      <td>167193</td>\n",
       "      <td>20110.0</td>\n",
       "      <td>1074124</td>\n",
       "      <td>NaN</td>\n",
       "      <td>1221207</td>\n",
       "      <td>823.0</td>\n",
       "      <td>18440.0</td>\n",
       "      <td>NaN</td>\n",
       "      <td>...</td>\n",
       "      <td>0</td>\n",
       "      <td>261</td>\n",
       "      <td>19ea68f7f6d374d276ce094b7473ceb24e9e0cae</td>\n",
       "      <td>0</td>\n",
       "      <td>0</td>\n",
       "      <td>0</td>\n",
       "      <td>0</td>\n",
       "      <td>0</td>\n",
       "      <td>NaN</td>\n",
       "      <td>0.136908</td>\n",
       "    </tr>\n",
       "    <tr>\n",
       "      <th>2</th>\n",
       "      <td>20201013</td>\n",
       "      <td>AR</td>\n",
       "      <td>94167</td>\n",
       "      <td>4816.0</td>\n",
       "      <td>1073314</td>\n",
       "      <td>NaN</td>\n",
       "      <td>1162665</td>\n",
       "      <td>601.0</td>\n",
       "      <td>6069.0</td>\n",
       "      <td>246.0</td>\n",
       "      <td>...</td>\n",
       "      <td>25</td>\n",
       "      <td>109</td>\n",
       "      <td>bacc62043d22c514733768a48aecdc636d18ee3c</td>\n",
       "      <td>0</td>\n",
       "      <td>0</td>\n",
       "      <td>0</td>\n",
       "      <td>0</td>\n",
       "      <td>0</td>\n",
       "      <td>NaN</td>\n",
       "      <td>0.080992</td>\n",
       "    </tr>\n",
       "  </tbody>\n",
       "</table>\n",
       "<p>3 rows × 56 columns</p>\n",
       "</div>"
      ],
      "text/plain": [
       "       date state  positive  probableCases  negative  pending  \\\n",
       "0  20201013    AK     11039            NaN    503750      NaN   \n",
       "1  20201013    AL    167193        20110.0   1074124      NaN   \n",
       "2  20201013    AR     94167         4816.0   1073314      NaN   \n",
       "\n",
       "   totalTestResults  hospitalizedCurrently  hospitalizedCumulative  \\\n",
       "0            514789                   59.0                     NaN   \n",
       "1           1221207                  823.0                 18440.0   \n",
       "2           1162665                  601.0                  6069.0   \n",
       "\n",
       "   inIcuCurrently    ...     deathIncrease  hospitalizedIncrease  \\\n",
       "0             NaN    ...                 0                     0   \n",
       "1             NaN    ...                 0                   261   \n",
       "2           246.0    ...                25                   109   \n",
       "\n",
       "                                       hash  commercialScore  \\\n",
       "0  881fbdb23caeb53c47e5007c8599ec1624e1c68d                0   \n",
       "1  19ea68f7f6d374d276ce094b7473ceb24e9e0cae                0   \n",
       "2  bacc62043d22c514733768a48aecdc636d18ee3c                0   \n",
       "\n",
       "  negativeRegularScore negativeScore positiveScore score  grade   fracPos  \n",
       "0                    0             0             0     0    NaN  0.021444  \n",
       "1                    0             0             0     0    NaN  0.136908  \n",
       "2                    0             0             0     0    NaN  0.080992  \n",
       "\n",
       "[3 rows x 56 columns]"
      ]
     },
     "execution_count": 6,
     "metadata": {},
     "output_type": "execute_result"
    }
   ],
   "source": [
    "#dataset one has the following rows and columns\n",
    "print(\"Data set one\")\n",
    "d.head(3)"
   ]
  },
  {
   "cell_type": "code",
   "execution_count": 7,
   "metadata": {},
   "outputs": [
    {
     "name": "stdout",
     "output_type": "stream",
     "text": [
      "Data set two\n"
     ]
    },
    {
     "data": {
      "text/html": [
       "<div>\n",
       "<style scoped>\n",
       "    .dataframe tbody tr th:only-of-type {\n",
       "        vertical-align: middle;\n",
       "    }\n",
       "\n",
       "    .dataframe tbody tr th {\n",
       "        vertical-align: top;\n",
       "    }\n",
       "\n",
       "    .dataframe thead th {\n",
       "        text-align: right;\n",
       "    }\n",
       "</style>\n",
       "<table border=\"1\" class=\"dataframe\">\n",
       "  <thead>\n",
       "    <tr style=\"text-align: right;\">\n",
       "      <th></th>\n",
       "      <th>State</th>\n",
       "      <th>State Code</th>\n",
       "      <th>Region</th>\n",
       "      <th>Division</th>\n",
       "    </tr>\n",
       "  </thead>\n",
       "  <tbody>\n",
       "    <tr>\n",
       "      <th>0</th>\n",
       "      <td>Alaska</td>\n",
       "      <td>AK</td>\n",
       "      <td>West</td>\n",
       "      <td>Pacific</td>\n",
       "    </tr>\n",
       "    <tr>\n",
       "      <th>1</th>\n",
       "      <td>Alabama</td>\n",
       "      <td>AL</td>\n",
       "      <td>South</td>\n",
       "      <td>East South Central</td>\n",
       "    </tr>\n",
       "    <tr>\n",
       "      <th>2</th>\n",
       "      <td>Arkansas</td>\n",
       "      <td>AR</td>\n",
       "      <td>South</td>\n",
       "      <td>West South Central</td>\n",
       "    </tr>\n",
       "  </tbody>\n",
       "</table>\n",
       "</div>"
      ],
      "text/plain": [
       "      State State Code Region            Division\n",
       "0    Alaska         AK   West             Pacific\n",
       "1   Alabama         AL  South  East South Central\n",
       "2  Arkansas         AR  South  West South Central"
      ]
     },
     "execution_count": 7,
     "metadata": {},
     "output_type": "execute_result"
    }
   ],
   "source": [
    "#dataset two has the following rows and columns\n",
    "print(\"Data set two\")\n",
    "censusRegions.head(3)"
   ]
  },
  {
   "cell_type": "markdown",
   "metadata": {},
   "source": [
    "We want to connect data set one (DS1) one with DS2 by state---a variable that is unique to each observation and that both data sets have in common. "
   ]
  },
  {
   "cell_type": "code",
   "execution_count": 8,
   "metadata": {},
   "outputs": [
    {
     "data": {
      "image/png": "[encoded data removed]",
      "text/plain": [
       "<Figure size 432x288 with 1 Axes>"
      ]
     },
     "metadata": {},
     "output_type": "display_data"
    }
   ],
   "source": [
    "d = d.merge(censusRegions\n",
    "            ,left_on=\"state\"        # The variable name in DS1\n",
    "            ,right_on=\"State Code\") # The variable name in DS2\n",
    "\n",
    "# build plot\n",
    "import seaborn as sns                                   # a module with great looking plots\n",
    "plt.style.use(\"fivethirtyeight\")                        # a nice-looking style\n",
    "fig,ax = plt.subplots()                                 # set up a figure and axis for plotting \n",
    "sns.boxplot( x = \"Region\", y= \"fracPos\", data=d )       # plot a box plot using the seaborn module  \n",
    "\n",
    "ax.set_xlabel(\"\")                                       # exclude an x label\n",
    "ax.set_ylabel(\"Fraction of test positive\",fontsize=12)  # label the vertical axis\n",
    "\n",
    "ax.tick_params(labelsize=10)                            # change the size of the x and y ticks "
   ]
  },
  {
   "cell_type": "markdown",
   "metadata": {},
   "source": [
    "### Building a formal hypothesis (and continuing our example). \n",
    "\n",
    "From our exploratory analysis above we see the fraction of positive tests is smaller in the Northeast than in other census regions of the US. We may hypothesize\n",
    "\n",
    "*States in the northeast have a smaller fraction of positive tests compared to states from all other census regions combined*\n",
    "\n",
    "But to formally test a hypothesis we need to develop a **null hypothesis**.\n",
    "A **null hypothesis $(H_{0})$** is a claim you want to refute by gathering data that suggests this hypothesis is improbable and you **alternative hypothesis $(H_{\\text{A}})$**---or all possible hypothesis other than your null hypothesis---is more likely. \n",
    "\n",
    "Continuing with our example, I might state my **null hypothesis** as \n",
    "\n",
    "$H_{0}:$ *States in the northeast have the same fraction of positive tests compared to states from all other census regions combined*\n",
    "\n",
    "and so my **alternative hypothesis** is \n",
    "\n",
    "$H_{\\text{A}}:$ *States in the northeast DO NOT have the same fraction of positive tests compared to states from all other census regions combined*"
   ]
  },
  {
   "cell_type": "markdown",
   "metadata": {},
   "source": [
    "### The 5 parts of a hypothesis\n",
    "\n",
    "There are at minimum five parts to any formal Hypothesis test. \n",
    "\n",
    "#### Step 1: Generate a null and alternative hypothesis.\n",
    "\n",
    "This involves a claim and its alternative written as clear as possible. \n",
    "When possible and often, null and alternative hypothesis describe claims about population parameters.   \n",
    "\n",
    "For example, a null hypothesis may state that the population mean is the same between two groups (group A and group B), and so the alternative hypothesis would be all outcomes where the population means are unequal. \n",
    "Using mathematical notation we can write\n",
    "\n",
    "\\begin{align}\n",
    "    H_{0}: \\mu_{A} = \\mu_{B} \\\\ \n",
    "    H_{\\text{A}}: \\mu_{A} \\neq \\mu_{B} \n",
    "\\end{align}\n",
    "\n",
    "##### Our example\n",
    "\n",
    "For our example above we may state our null hypothesis as \n",
    "\n",
    "\\begin{align}\n",
    "    H_{0}: \\mu_{\\text{Northeast}} = \\mu_{\\text{Not Northeast}} \\\\ \n",
    "    H_{\\text{A}}: \\mu_{\\text{Northeast}} \\neq \\mu_{\\text{Not Northeast}} \n",
    "\\end{align}\n",
    "where $\\mu$ is the average fraction of positive tests.  "
   ]
  },
  {
   "cell_type": "markdown",
   "metadata": {},
   "source": [
    "#### Step 2: Define a significance level\n",
    "\n",
    "The next step is to define a level $\\alpha$ that if the probability your observed data occurred given your **null hypothesis** is smaller than $\\alpha$ than you will reject your null hypothesis in favor of the alternative.\n",
    "\n",
    "\n"
   ]
  },
  {
   "cell_type": "code",
   "execution_count": null,
   "metadata": {},
   "outputs": [],
   "source": []
  },
  {
   "cell_type": "code",
   "execution_count": null,
   "metadata": {},
   "outputs": [],
   "source": []
  },
  {
   "cell_type": "code",
   "execution_count": null,
   "metadata": {},
   "outputs": [],
   "source": []
  },
  {
   "cell_type": "code",
   "execution_count": null,
   "metadata": {},
   "outputs": [],
   "source": []
  },
  {
   "cell_type": "code",
   "execution_count": 12,
   "metadata": {},
   "outputs": [
    {
     "data": {
      "text/plain": [
       "<matplotlib.legend.Legend at 0x11df93410>"
      ]
     },
     "execution_count": 12,
     "metadata": {},
     "output_type": "execute_result"
    },
    {
     "data": {
      "image/png": "[encoded data removed]",
      "text/plain": [
       "<Figure size 432x288 with 1 Axes>"
      ]
     },
     "metadata": {},
     "output_type": "display_data"
    }
   ],
   "source": [
    "\n",
    "ne = d.loc[d.Region==\"Northeast\"]\n",
    "so = d.loc[d.Region!=\"Northeast\"]\n",
    "\n",
    "\n",
    "fig,ax = plt.subplots()\n",
    "sns.distplot( ne.fracPos,3, label = \"Northeast\",ax=ax )\n",
    "sns.distplot( so.fracPos,3, label = \"All other regions\",ax=ax )\n",
    "\n",
    "ax.set_xlabel(\"Fraction of positive tests\")\n",
    "ax.set_ylabel(\"Frequency\")\n",
    "\n",
    "ax.legend(frameon=False)"
   ]
  },
  {
   "cell_type": "code",
   "execution_count": null,
   "metadata": {},
   "outputs": [],
   "source": []
  },
  {
   "cell_type": "code",
   "execution_count": null,
   "metadata": {},
   "outputs": [],
   "source": []
  },
  {
   "cell_type": "code",
   "execution_count": null,
   "metadata": {},
   "outputs": [],
   "source": []
  },
  {
   "cell_type": "code",
   "execution_count": null,
   "metadata": {},
   "outputs": [],
   "source": []
  },
  {
   "cell_type": "code",
   "execution_count": null,
   "metadata": {},
   "outputs": [],
   "source": []
  },
  {
   "cell_type": "code",
   "execution_count": null,
   "metadata": {},
   "outputs": [],
   "source": []
  },
  {
   "cell_type": "code",
   "execution_count": null,
   "metadata": {},
   "outputs": [],
   "source": []
  },
  {
   "cell_type": "code",
   "execution_count": null,
   "metadata": {},
   "outputs": [],
   "source": []
  },
  {
   "cell_type": "code",
   "execution_count": null,
   "metadata": {},
   "outputs": [],
   "source": []
  },
  {
   "cell_type": "code",
   "execution_count": null,
   "metadata": {},
   "outputs": [],
   "source": []
  },
  {
   "cell_type": "code",
   "execution_count": null,
   "metadata": {},
   "outputs": [],
   "source": []
  },
  {
   "cell_type": "code",
   "execution_count": null,
   "metadata": {},
   "outputs": [],
   "source": []
  },
  {
   "cell_type": "code",
   "execution_count": null,
   "metadata": {},
   "outputs": [],
   "source": []
  }
 ],
 "metadata": {
  "kernelspec": {
   "display_name": "Python 3",
   "language": "python",
   "name": "python3"
  },
  "language_info": {
   "codemirror_mode": {
    "name": "ipython",
    "version": 3
   },
   "file_extension": ".py",
   "mimetype": "text/x-python",
   "name": "python",
   "nbconvert_exporter": "python",
   "pygments_lexer": "ipython3",
   "version": "3.7.5"
  }
 },
 "nbformat": 4,
 "nbformat_minor": 2
}
