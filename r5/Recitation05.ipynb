{
 "cells": [
  {
   "cell_type": "markdown",
   "metadata": {},
   "source": [
    "## Reed-Frost model  and stochastic discrete time epidemics"
   ]
  },
  {
   "cell_type": "markdown",
   "metadata": {},
   "source": [
    "The Reed-Frost model is one of the first models of epidemics that serves as a foundation for many more complicated models of how an outbreak evolves over time.\n",
    "\n",
    "The Reed-Frost (RF model assumes individuals can belong to one of three different states: Susceptible (S), Infectious (I), or Recovered and immune (R).\n",
    "Individuals can move between these three different states over a series of discrete time steps.\n",
    "Susceptible individuals move to the infectious group with a specific probability and all those who are infectious within one time step become recovered (and immune). \n",
    "\n",
    "The best part of the Reed-Frost model is that it involves almost everything we've learned in PHDS-I up to this point. "
   ]
  },
  {
   "cell_type": "markdown",
   "metadata": {},
   "source": [
    "## Probability of infection\n",
    "\n",
    "The RF model assumes that those who are infectious---those who belong to the I state---infect individuals in the susceptible state with the same probability $p$. \n",
    "During each time step, the RF model also assumes every infectious individual comes into contact with every susceptible individual---the more infectious individuals the harder it is to stay susceptible. \n",
    "\n",
    "The way the RF model defines this is as follows. \n",
    "Suppose there is a single infectious individual.\n",
    "The probability a susceptible individual becomes infected is then\n",
    "\n",
    "\\begin{align}\n",
    "    p(\\text{Susceptible becomes infected after one exposure}) = p\n",
    "\\end{align}\n",
    "\n",
    "and the probability they remain susceptible is\n",
    "\n",
    "\\begin{align}\n",
    "    p(\\text{Remained susceptible after one exposure}) = (1-p)\n",
    "\\end{align}\n",
    "\n",
    "Now suppose there are two infected individuals. \n",
    "A susceptible individual remain susceptible is if both the first and the second infectious individual do not infect them.\n",
    "\n",
    "\\begin{align}\n",
    "    p(\\text{Remained susceptible after two exposures}) = (1-p)^{2}\n",
    "\\end{align}\n",
    "\n",
    "The RF model assumes that the probabilities that each individual infects a susceptible are **independent**.\n",
    "By definition\n",
    "\n",
    "\\begin{align}\n",
    "    p(\\text{second person infects susceptible} | \\text{first person infects susceptible}) &= p \\\\\n",
    "        & = p(\\text{second person infects susceptible}) \n",
    "\\end{align}\n",
    "\n",
    "Then the probability at least one of the infected individuals did successfully infect this susceptible individual is if the susceptible individual did not remain susceptible or \n",
    "\n",
    "\\begin{align}\n",
    "    p(\\text{At least one infected a susceptible}) = 1 - (1-p)^{2}\n",
    "\\end{align}\n",
    "\n",
    "Now suppose that there are $I$ infected individuals. \n",
    "Then the probability that at least one of the $I$ infected individuals infects a susceptible is \n",
    "\n",
    "\\begin{align}\n",
    "    p(\\text{At least one of the I infected infects a susceptible}) = 1 - (1-p)^{I}\n",
    "\\end{align}"
   ]
  },
  {
   "cell_type": "code",
   "execution_count": 27,
   "metadata": {},
   "outputs": [
    {
     "data": {
      "image/png": "[encoded data removed]",
      "text/plain": [
       "<Figure size 432x288 with 1 Axes>"
      ]
     },
     "metadata": {},
     "output_type": "display_data"
    }
   ],
   "source": [
    "def susceptibleIsInfected(NumberInfected, probOfInfection):\n",
    "    return 1 - (1- probOfInfection)**NumberInfected\n",
    "\n",
    "probOfInfection = np.linspace(0.01,0.40,100)\n",
    "NumberInfected = 10\n",
    "\n",
    "probs_SusceptibleIsInfected = []\n",
    "for prob in probOfInfection:\n",
    "    probSusceptibleIsInfected = susceptibleIsInfected(NumberInfected, prob)\n",
    "    probs_SusceptibleIsInfected.append( probSusceptibleIsInfected )\n",
    "\n",
    "import matplotlib.pyplot as plt\n",
    "\n",
    "plt.style.use(\"fivethirtyeight\")\n",
    "fig,ax = plt.subplots()\n",
    "\n",
    "ax.plot( probOfInfection, probs_SusceptibleIsInfected )\n",
    "\n",
    "ax.set_xlabel(r\"Probability a single person infects a susceptible ($p$)\",fontsize=10)\n",
    "ax.set_ylabel(r\"Prob a susceptible is infected $[1 - (1-p)^{I}]$\",fontsize=10)\n",
    "\n",
    "plt.show()"
   ]
  },
  {
   "cell_type": "markdown",
   "metadata": {},
   "source": [
    "As the probability a single person infects a susceptible increases, the probability a susceptible is infected by one of 10 infected individuals increases. The rate of increase is more dramatic between $p$s of 0.01 and 0.2 and after the rate of increases of the probability tapers off---getting very close to 1. \n",
    "\n",
    "\n",
    "### TL;DR Successive vs simultaneous contact and infection\n",
    "An interesting consequence of the above is that the probability a single infected individual infects a susceptible over $I$ time steps is the same as the probability $I$ individuals infect a susceptible in a single time step.  "
   ]
  },
  {
   "cell_type": "markdown",
   "metadata": {},
   "source": [
    "## Chain binomial models\n",
    "\n",
    "### Formally define the Reed-Frost model\n",
    "\n",
    "The Reed-Frost model is the following stochastic process:\n",
    "\n",
    "\\begin{align}\n",
    "    I_{t+1} &= \\text{Bin}\\left( S_{t}, 1 - (1-p)^{I_{t}} \\right)\\\\\n",
    "    S_{t+1} &= S_{t} - I_{t+1}\\\\\n",
    "    R_{t+1} &= R_{t} + I_{t}\\\\\n",
    "\\end{align}\n",
    "The number of infected individuals at the next time step ($t+1$) depends on the number of susceptible and infected individuals at time $t$ and on the probability a single infected individual infects a susceptible $(p)$.\n",
    "The number of infected individuals at time $t+1$ is a sample from a Binomial distribution and is the only random component in the model. \n",
    "The number of susceptible individuals is decremented by the number of infected individuals and all infected individuals at time $t$ recover within one time step.\n",
    "\n",
    "### Simulate and intuition\n",
    "\n",
    "Lets gain some intuition by coding up this model and simulating some time steps. \n",
    "\n",
    "#### Define a function that computes the $I_{t}$"
   ]
  },
  {
   "cell_type": "code",
   "execution_count": 28,
   "metadata": {},
   "outputs": [],
   "source": [
    "def IAtTPlus1(S,I,p):\n",
    "    # we can use our previous function\n",
    "    probOfInfectingASusceptible = susceptibleIsInfected(NumberInfected=I,probOfInfection=p) \n",
    "    # return a single sample from a binomial dist\n",
    "    return np.random.binomial(S,probOfInfectingASusceptible)"
   ]
  },
  {
   "cell_type": "markdown",
   "metadata": {},
   "source": [
    "#### Define a function for S"
   ]
  },
  {
   "cell_type": "code",
   "execution_count": 29,
   "metadata": {},
   "outputs": [],
   "source": [
    "def SAtTPlus1(S,IatTPlus1):\n",
    "    return S - IatTPlus1"
   ]
  },
  {
   "cell_type": "markdown",
   "metadata": {},
   "source": [
    "#### Define a function for R"
   ]
  },
  {
   "cell_type": "code",
   "execution_count": 30,
   "metadata": {},
   "outputs": [],
   "source": [
    "def RAtTPlus1(R,I):\n",
    "    return R+I"
   ]
  },
  {
   "cell_type": "markdown",
   "metadata": {},
   "source": [
    "#### The simulation"
   ]
  },
  {
   "cell_type": "code",
   "execution_count": 31,
   "metadata": {},
   "outputs": [],
   "source": [
    "numberOfTimeSteps = 20\n",
    "p = 0.05\n",
    "\n",
    "Is = [1]\n",
    "Ss = [100]\n",
    "Rs = [0]\n",
    "\n",
    "for t in np.arange(0,numberOfTimeSteps):\n",
    "    # at previous time step\n",
    "    St = Ss[t]\n",
    "    It = Is[t]\n",
    "    Rt = Rs[t]\n",
    "    \n",
    "    #at the next time step\n",
    "    Itp1 = IAtTPlus1(St,It,p)\n",
    "    Stp1 = SAtTPlus1(St,Itp1)\n",
    "    Rtp1 = RAtTPlus1(Rt,It)\n",
    "    \n",
    "    # collect data\n",
    "    Is.append(Itp1)\n",
    "    Ss.append(Stp1)\n",
    "    Rs.append(Rtp1)"
   ]
  },
  {
   "cell_type": "code",
   "execution_count": 32,
   "metadata": {},
   "outputs": [
    {
     "data": {
      "image/png": "[encoded data removed]",
      "text/plain": [
       "<Figure size 432x288 with 1 Axes>"
      ]
     },
     "metadata": {},
     "output_type": "display_data"
    }
   ],
   "source": [
    "fig,ax = plt.subplots()\n",
    "\n",
    "ax.plot(Is, label = \"Num Infected\")\n",
    "ax.plot(Ss, label = \"Num Susceptible\")\n",
    "ax.plot(Rs, label = \"Num Recovered\")\n",
    "\n",
    "ax.legend(frameon=False)\n",
    "\n",
    "ax.set_xlabel(\"Time steps\", fontsize=12)\n",
    "ax.set_ylabel(\"Number in population\", fontsize=12)\n",
    "\n",
    "ax.tick_params(which=\"both\",labelsize=8.)\n"
   ]
  },
  {
   "cell_type": "markdown",
   "metadata": {},
   "source": [
    "### Many simulations to examine the trajectory of I\n",
    "\n"
   ]
  },
  {
   "cell_type": "code",
   "execution_count": null,
   "metadata": {},
   "outputs": [],
   "source": []
  },
  {
   "cell_type": "markdown",
   "metadata": {},
   "source": [
    "### R naught and criticality"
   ]
  }
 ],
 "metadata": {
  "kernelspec": {
   "display_name": "Python 3",
   "language": "python",
   "name": "python3"
  },
  "language_info": {
   "codemirror_mode": {
    "name": "ipython",
    "version": 3
   },
   "file_extension": ".py",
   "mimetype": "text/x-python",
   "name": "python",
   "nbconvert_exporter": "python",
   "pygments_lexer": "ipython3",
   "version": "3.7.5"
  }
 },
 "nbformat": 4,
 "nbformat_minor": 2
}
